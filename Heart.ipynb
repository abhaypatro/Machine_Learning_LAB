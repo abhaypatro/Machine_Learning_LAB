{
  "nbformat": 4,
  "nbformat_minor": 0,
  "metadata": {
    "colab": {
      "name": "Heart.ipynb",
      "provenance": [],
      "collapsed_sections": []
    },
    "kernelspec": {
      "name": "python3",
      "display_name": "Python 3"
    }
  },
  "cells": [
    {
      "cell_type": "code",
      "metadata": {
        "id": "hMKIyjR2n-zY"
      },
      "source": [
        "# Importing the required modules\r\n",
        "import pandas as pd\r\n",
        "import numpy as np\r\n",
        "import matplotlib.pyplot as plt\r\n",
        "from sklearn.model_selection import train_test_split  \r\n",
        "from sklearn.preprocessing import StandardScaler    \r\n",
        "from sklearn.neighbors import KNeighborsClassifier\r\n",
        "from sklearn.metrics import accuracy_score,confusion_matrix"
      ],
      "execution_count": 1,
      "outputs": []
    },
    {
      "cell_type": "code",
      "metadata": {
        "id": "sg0fQfikoD44"
      },
      "source": [
        "# Reading the data\r\n",
        "data = pd.read_csv('heart.csv', header=None, delimiter=' ')"
      ],
      "execution_count": 2,
      "outputs": []
    },
    {
      "cell_type": "code",
      "metadata": {
        "colab": {
          "base_uri": "https://localhost:8080/",
          "height": 304
        },
        "id": "E1otPKHboP86",
        "outputId": "cef3699c-ebed-406d-d373-1acc9a98974f"
      },
      "source": [
        "# Describing the data\r\n",
        "data.describe()"
      ],
      "execution_count": 3,
      "outputs": [
        {
          "output_type": "execute_result",
          "data": {
            "text/html": [
              "<div>\n",
              "<style scoped>\n",
              "    .dataframe tbody tr th:only-of-type {\n",
              "        vertical-align: middle;\n",
              "    }\n",
              "\n",
              "    .dataframe tbody tr th {\n",
              "        vertical-align: top;\n",
              "    }\n",
              "\n",
              "    .dataframe thead th {\n",
              "        text-align: right;\n",
              "    }\n",
              "</style>\n",
              "<table border=\"1\" class=\"dataframe\">\n",
              "  <thead>\n",
              "    <tr style=\"text-align: right;\">\n",
              "      <th></th>\n",
              "      <th>0</th>\n",
              "      <th>1</th>\n",
              "      <th>2</th>\n",
              "      <th>3</th>\n",
              "      <th>4</th>\n",
              "      <th>5</th>\n",
              "      <th>6</th>\n",
              "      <th>7</th>\n",
              "      <th>8</th>\n",
              "      <th>9</th>\n",
              "      <th>10</th>\n",
              "      <th>11</th>\n",
              "      <th>12</th>\n",
              "      <th>13</th>\n",
              "    </tr>\n",
              "  </thead>\n",
              "  <tbody>\n",
              "    <tr>\n",
              "      <th>count</th>\n",
              "      <td>270.000000</td>\n",
              "      <td>270.000000</td>\n",
              "      <td>270.000000</td>\n",
              "      <td>270.000000</td>\n",
              "      <td>270.000000</td>\n",
              "      <td>270.000000</td>\n",
              "      <td>270.000000</td>\n",
              "      <td>270.000000</td>\n",
              "      <td>270.000000</td>\n",
              "      <td>270.00000</td>\n",
              "      <td>270.000000</td>\n",
              "      <td>270.000000</td>\n",
              "      <td>270.000000</td>\n",
              "      <td>270.000000</td>\n",
              "    </tr>\n",
              "    <tr>\n",
              "      <th>mean</th>\n",
              "      <td>54.433333</td>\n",
              "      <td>0.677778</td>\n",
              "      <td>3.174074</td>\n",
              "      <td>131.344444</td>\n",
              "      <td>249.659259</td>\n",
              "      <td>0.148148</td>\n",
              "      <td>1.022222</td>\n",
              "      <td>149.677778</td>\n",
              "      <td>0.329630</td>\n",
              "      <td>1.05000</td>\n",
              "      <td>1.585185</td>\n",
              "      <td>0.670370</td>\n",
              "      <td>4.696296</td>\n",
              "      <td>1.444444</td>\n",
              "    </tr>\n",
              "    <tr>\n",
              "      <th>std</th>\n",
              "      <td>9.109067</td>\n",
              "      <td>0.468195</td>\n",
              "      <td>0.950090</td>\n",
              "      <td>17.861608</td>\n",
              "      <td>51.686237</td>\n",
              "      <td>0.355906</td>\n",
              "      <td>0.997891</td>\n",
              "      <td>23.165717</td>\n",
              "      <td>0.470952</td>\n",
              "      <td>1.14521</td>\n",
              "      <td>0.614390</td>\n",
              "      <td>0.943896</td>\n",
              "      <td>1.940659</td>\n",
              "      <td>0.497827</td>\n",
              "    </tr>\n",
              "    <tr>\n",
              "      <th>min</th>\n",
              "      <td>29.000000</td>\n",
              "      <td>0.000000</td>\n",
              "      <td>1.000000</td>\n",
              "      <td>94.000000</td>\n",
              "      <td>126.000000</td>\n",
              "      <td>0.000000</td>\n",
              "      <td>0.000000</td>\n",
              "      <td>71.000000</td>\n",
              "      <td>0.000000</td>\n",
              "      <td>0.00000</td>\n",
              "      <td>1.000000</td>\n",
              "      <td>0.000000</td>\n",
              "      <td>3.000000</td>\n",
              "      <td>1.000000</td>\n",
              "    </tr>\n",
              "    <tr>\n",
              "      <th>25%</th>\n",
              "      <td>48.000000</td>\n",
              "      <td>0.000000</td>\n",
              "      <td>3.000000</td>\n",
              "      <td>120.000000</td>\n",
              "      <td>213.000000</td>\n",
              "      <td>0.000000</td>\n",
              "      <td>0.000000</td>\n",
              "      <td>133.000000</td>\n",
              "      <td>0.000000</td>\n",
              "      <td>0.00000</td>\n",
              "      <td>1.000000</td>\n",
              "      <td>0.000000</td>\n",
              "      <td>3.000000</td>\n",
              "      <td>1.000000</td>\n",
              "    </tr>\n",
              "    <tr>\n",
              "      <th>50%</th>\n",
              "      <td>55.000000</td>\n",
              "      <td>1.000000</td>\n",
              "      <td>3.000000</td>\n",
              "      <td>130.000000</td>\n",
              "      <td>245.000000</td>\n",
              "      <td>0.000000</td>\n",
              "      <td>2.000000</td>\n",
              "      <td>153.500000</td>\n",
              "      <td>0.000000</td>\n",
              "      <td>0.80000</td>\n",
              "      <td>2.000000</td>\n",
              "      <td>0.000000</td>\n",
              "      <td>3.000000</td>\n",
              "      <td>1.000000</td>\n",
              "    </tr>\n",
              "    <tr>\n",
              "      <th>75%</th>\n",
              "      <td>61.000000</td>\n",
              "      <td>1.000000</td>\n",
              "      <td>4.000000</td>\n",
              "      <td>140.000000</td>\n",
              "      <td>280.000000</td>\n",
              "      <td>0.000000</td>\n",
              "      <td>2.000000</td>\n",
              "      <td>166.000000</td>\n",
              "      <td>1.000000</td>\n",
              "      <td>1.60000</td>\n",
              "      <td>2.000000</td>\n",
              "      <td>1.000000</td>\n",
              "      <td>7.000000</td>\n",
              "      <td>2.000000</td>\n",
              "    </tr>\n",
              "    <tr>\n",
              "      <th>max</th>\n",
              "      <td>77.000000</td>\n",
              "      <td>1.000000</td>\n",
              "      <td>4.000000</td>\n",
              "      <td>200.000000</td>\n",
              "      <td>564.000000</td>\n",
              "      <td>1.000000</td>\n",
              "      <td>2.000000</td>\n",
              "      <td>202.000000</td>\n",
              "      <td>1.000000</td>\n",
              "      <td>6.20000</td>\n",
              "      <td>3.000000</td>\n",
              "      <td>3.000000</td>\n",
              "      <td>7.000000</td>\n",
              "      <td>2.000000</td>\n",
              "    </tr>\n",
              "  </tbody>\n",
              "</table>\n",
              "</div>"
            ],
            "text/plain": [
              "               0           1           2   ...          11          12          13\n",
              "count  270.000000  270.000000  270.000000  ...  270.000000  270.000000  270.000000\n",
              "mean    54.433333    0.677778    3.174074  ...    0.670370    4.696296    1.444444\n",
              "std      9.109067    0.468195    0.950090  ...    0.943896    1.940659    0.497827\n",
              "min     29.000000    0.000000    1.000000  ...    0.000000    3.000000    1.000000\n",
              "25%     48.000000    0.000000    3.000000  ...    0.000000    3.000000    1.000000\n",
              "50%     55.000000    1.000000    3.000000  ...    0.000000    3.000000    1.000000\n",
              "75%     61.000000    1.000000    4.000000  ...    1.000000    7.000000    2.000000\n",
              "max     77.000000    1.000000    4.000000  ...    3.000000    7.000000    2.000000\n",
              "\n",
              "[8 rows x 14 columns]"
            ]
          },
          "metadata": {
            "tags": []
          },
          "execution_count": 3
        }
      ]
    },
    {
      "cell_type": "code",
      "metadata": {
        "colab": {
          "base_uri": "https://localhost:8080/",
          "height": 195
        },
        "id": "xiGFmcNaoSRW",
        "outputId": "dce68eea-f4f8-42e3-b3fb-bd2cc2a93c96"
      },
      "source": [
        "# First few entries of the data\r\n",
        "data.head()"
      ],
      "execution_count": 4,
      "outputs": [
        {
          "output_type": "execute_result",
          "data": {
            "text/html": [
              "<div>\n",
              "<style scoped>\n",
              "    .dataframe tbody tr th:only-of-type {\n",
              "        vertical-align: middle;\n",
              "    }\n",
              "\n",
              "    .dataframe tbody tr th {\n",
              "        vertical-align: top;\n",
              "    }\n",
              "\n",
              "    .dataframe thead th {\n",
              "        text-align: right;\n",
              "    }\n",
              "</style>\n",
              "<table border=\"1\" class=\"dataframe\">\n",
              "  <thead>\n",
              "    <tr style=\"text-align: right;\">\n",
              "      <th></th>\n",
              "      <th>0</th>\n",
              "      <th>1</th>\n",
              "      <th>2</th>\n",
              "      <th>3</th>\n",
              "      <th>4</th>\n",
              "      <th>5</th>\n",
              "      <th>6</th>\n",
              "      <th>7</th>\n",
              "      <th>8</th>\n",
              "      <th>9</th>\n",
              "      <th>10</th>\n",
              "      <th>11</th>\n",
              "      <th>12</th>\n",
              "      <th>13</th>\n",
              "    </tr>\n",
              "  </thead>\n",
              "  <tbody>\n",
              "    <tr>\n",
              "      <th>0</th>\n",
              "      <td>70.0</td>\n",
              "      <td>1.0</td>\n",
              "      <td>4.0</td>\n",
              "      <td>130.0</td>\n",
              "      <td>322.0</td>\n",
              "      <td>0.0</td>\n",
              "      <td>2.0</td>\n",
              "      <td>109.0</td>\n",
              "      <td>0.0</td>\n",
              "      <td>2.4</td>\n",
              "      <td>2.0</td>\n",
              "      <td>3.0</td>\n",
              "      <td>3.0</td>\n",
              "      <td>2</td>\n",
              "    </tr>\n",
              "    <tr>\n",
              "      <th>1</th>\n",
              "      <td>67.0</td>\n",
              "      <td>0.0</td>\n",
              "      <td>3.0</td>\n",
              "      <td>115.0</td>\n",
              "      <td>564.0</td>\n",
              "      <td>0.0</td>\n",
              "      <td>2.0</td>\n",
              "      <td>160.0</td>\n",
              "      <td>0.0</td>\n",
              "      <td>1.6</td>\n",
              "      <td>2.0</td>\n",
              "      <td>0.0</td>\n",
              "      <td>7.0</td>\n",
              "      <td>1</td>\n",
              "    </tr>\n",
              "    <tr>\n",
              "      <th>2</th>\n",
              "      <td>57.0</td>\n",
              "      <td>1.0</td>\n",
              "      <td>2.0</td>\n",
              "      <td>124.0</td>\n",
              "      <td>261.0</td>\n",
              "      <td>0.0</td>\n",
              "      <td>0.0</td>\n",
              "      <td>141.0</td>\n",
              "      <td>0.0</td>\n",
              "      <td>0.3</td>\n",
              "      <td>1.0</td>\n",
              "      <td>0.0</td>\n",
              "      <td>7.0</td>\n",
              "      <td>2</td>\n",
              "    </tr>\n",
              "    <tr>\n",
              "      <th>3</th>\n",
              "      <td>64.0</td>\n",
              "      <td>1.0</td>\n",
              "      <td>4.0</td>\n",
              "      <td>128.0</td>\n",
              "      <td>263.0</td>\n",
              "      <td>0.0</td>\n",
              "      <td>0.0</td>\n",
              "      <td>105.0</td>\n",
              "      <td>1.0</td>\n",
              "      <td>0.2</td>\n",
              "      <td>2.0</td>\n",
              "      <td>1.0</td>\n",
              "      <td>7.0</td>\n",
              "      <td>1</td>\n",
              "    </tr>\n",
              "    <tr>\n",
              "      <th>4</th>\n",
              "      <td>74.0</td>\n",
              "      <td>0.0</td>\n",
              "      <td>2.0</td>\n",
              "      <td>120.0</td>\n",
              "      <td>269.0</td>\n",
              "      <td>0.0</td>\n",
              "      <td>2.0</td>\n",
              "      <td>121.0</td>\n",
              "      <td>1.0</td>\n",
              "      <td>0.2</td>\n",
              "      <td>1.0</td>\n",
              "      <td>1.0</td>\n",
              "      <td>3.0</td>\n",
              "      <td>1</td>\n",
              "    </tr>\n",
              "  </tbody>\n",
              "</table>\n",
              "</div>"
            ],
            "text/plain": [
              "     0    1    2      3      4    5    6      7    8    9    10   11   12  13\n",
              "0  70.0  1.0  4.0  130.0  322.0  0.0  2.0  109.0  0.0  2.4  2.0  3.0  3.0   2\n",
              "1  67.0  0.0  3.0  115.0  564.0  0.0  2.0  160.0  0.0  1.6  2.0  0.0  7.0   1\n",
              "2  57.0  1.0  2.0  124.0  261.0  0.0  0.0  141.0  0.0  0.3  1.0  0.0  7.0   2\n",
              "3  64.0  1.0  4.0  128.0  263.0  0.0  0.0  105.0  1.0  0.2  2.0  1.0  7.0   1\n",
              "4  74.0  0.0  2.0  120.0  269.0  0.0  2.0  121.0  1.0  0.2  1.0  1.0  3.0   1"
            ]
          },
          "metadata": {
            "tags": []
          },
          "execution_count": 4
        }
      ]
    },
    {
      "cell_type": "code",
      "metadata": {
        "colab": {
          "base_uri": "https://localhost:8080/"
        },
        "id": "2QKc7RQzoWXo",
        "outputId": "8b6af5f3-ff4d-4ac5-9f77-99c00dbafced"
      },
      "source": [
        "# Checking for empty data fields\r\n",
        "flag=data.isnull().values.any()\r\n",
        "if(flag):\r\n",
        "  print(\"The data set contains empty field\")\r\n",
        "else:\r\n",
        "  print(\"The data set does'nt contain any empty field\")"
      ],
      "execution_count": 5,
      "outputs": [
        {
          "output_type": "stream",
          "text": [
            "The data set does'nt contain any empty field\n"
          ],
          "name": "stdout"
        }
      ]
    },
    {
      "cell_type": "code",
      "metadata": {
        "id": "JqJ53qtXqPvW"
      },
      "source": [
        "# Splitting the data into train and test set\r\n",
        "X=data.iloc[:,0:13]\r\n",
        "y=data.iloc[:,13]\r\n",
        "X_train,X_test,y_train,y_test=train_test_split(X,y,test_size=0.2,random_state=0) "
      ],
      "execution_count": 6,
      "outputs": []
    },
    {
      "cell_type": "code",
      "metadata": {
        "id": "R0YKllO1qRsW"
      },
      "source": [
        "# Mean Normalizing the data \r\n",
        "st_x= StandardScaler()    \r\n",
        "X_train= st_x.fit_transform(X_train)    \r\n",
        "X_test= st_x.transform(X_test)\r\n",
        "y_test=np.array(y_test)\r\n",
        "y_train=np.array(y_train)"
      ],
      "execution_count": 7,
      "outputs": []
    },
    {
      "cell_type": "markdown",
      "metadata": {
        "id": "0SeVPVaHqvJe"
      },
      "source": [
        "**METHOD 1 - Using Sci-kit Learn Library**"
      ]
    },
    {
      "cell_type": "code",
      "metadata": {
        "colab": {
          "base_uri": "https://localhost:8080/"
        },
        "id": "A-RA3iMBqoii",
        "outputId": "95a3df19-21d6-4885-8a08-910ba39ab08a"
      },
      "source": [
        "# Creating and fitting the classifier\r\n",
        "cf = KNeighborsClassifier(n_neighbors=3)\r\n",
        "cf.fit(X_train,y_train)"
      ],
      "execution_count": 8,
      "outputs": [
        {
          "output_type": "execute_result",
          "data": {
            "text/plain": [
              "KNeighborsClassifier(algorithm='auto', leaf_size=30, metric='minkowski',\n",
              "                     metric_params=None, n_jobs=None, n_neighbors=3, p=2,\n",
              "                     weights='uniform')"
            ]
          },
          "metadata": {
            "tags": []
          },
          "execution_count": 8
        }
      ]
    },
    {
      "cell_type": "code",
      "metadata": {
        "colab": {
          "base_uri": "https://localhost:8080/"
        },
        "id": "KGBPVPX8qyfM",
        "outputId": "45c36af2-6934-4ef6-de45-f9492806ca61"
      },
      "source": [
        "# Testing the accuracy of the fitted model\r\n",
        "y_pred=cf.predict(X_test)\r\n",
        "accuracy_score(y_test,y_pred)"
      ],
      "execution_count": 9,
      "outputs": [
        {
          "output_type": "execute_result",
          "data": {
            "text/plain": [
              "0.7037037037037037"
            ]
          },
          "metadata": {
            "tags": []
          },
          "execution_count": 9
        }
      ]
    },
    {
      "cell_type": "code",
      "metadata": {
        "colab": {
          "base_uri": "https://localhost:8080/",
          "height": 295
        },
        "id": "f1nWMq7Nq0eX",
        "outputId": "2748df11-c850-4b5c-e775-ac3e4137fcde"
      },
      "source": [
        "# Varying k and finding results\r\n",
        "accuracy_array = []\r\n",
        "for k in range(1, 20):\r\n",
        "    knn = KNeighborsClassifier(n_neighbors = k)\r\n",
        "    knn.fit(X_train, y_train)\r\n",
        "    y_prediction = knn.predict(X_test)\r\n",
        "    accuracy = accuracy_score(y_test, y_prediction)\r\n",
        "    accuracy_array.append(accuracy)\r\n",
        "plt.grid(color='grey', linestyle=':', linewidth=1)\r\n",
        "plt.plot(range(1, 20), accuracy_array, color='green', marker='o')\r\n",
        "plt.xlabel('K (Number of neighbours')\r\n",
        "plt.ylabel('Accuracy')\r\n",
        "plt.title(\"Testing the accuracy for different values of K using Scikit-Learns's model\")\r\n",
        "plt.show()"
      ],
      "execution_count": 10,
      "outputs": [
        {
          "output_type": "display_data",
          "data": {
            "image/png": "[encoded data removed]",
            "text/plain": [
              "<Figure size 432x288 with 1 Axes>"
            ]
          },
          "metadata": {
            "tags": [],
            "needs_background": "light"
          }
        }
      ]
    },
    {
      "cell_type": "code",
      "metadata": {
        "colab": {
          "base_uri": "https://localhost:8080/"
        },
        "id": "GnpOd5pjssUl",
        "outputId": "115b5c38-461d-4f41-bf24-7f6d835a11f2"
      },
      "source": [
        "# Printing the confusion matrix\r\n",
        "print(\"The confusion matrix for Scikit-Learn's model is \")\r\n",
        "print(confusion_matrix(y_test,y_prediction))"
      ],
      "execution_count": 11,
      "outputs": [
        {
          "output_type": "stream",
          "text": [
            "The confusion matrix for Scikit-Learn's model is \n",
            "[[25  5]\n",
            " [ 6 18]]\n"
          ],
          "name": "stdout"
        }
      ]
    },
    {
      "cell_type": "markdown",
      "metadata": {
        "id": "6YQmlVQsrUJF"
      },
      "source": [
        "**METHOD 2 - Writing the algorithm manually**"
      ]
    },
    {
      "cell_type": "code",
      "metadata": {
        "id": "QT13CM3arUpS"
      },
      "source": [
        "# Writing the eucledian distance function\r\n",
        "def euclideanDistance(data1, data2):\r\n",
        "    distance = 0\r\n",
        "    for x in range(len(data1)):\r\n",
        "        distance += np.square(data1[x] - data2[x])\r\n",
        "    return np.sqrt(distance)"
      ],
      "execution_count": 12,
      "outputs": []
    },
    {
      "cell_type": "code",
      "metadata": {
        "id": "RXN2RVXqrXKI"
      },
      "source": [
        "# Defining the get_neighbours function\r\n",
        "def get_neighbours(train, test_row, num_neighbours):\r\n",
        "\tdistances=[]\r\n",
        "\tfor x in range(len(train)):\r\n",
        "\t\tdist = euclideanDistance(test_row, train[x])\r\n",
        "\t\tdistances.append((x, dist))\r\n",
        "\tdistances.sort(key=lambda tup: tup[1])\r\n",
        "\tneighbours=[]\r\n",
        "\tfor i in range(num_neighbours):\r\n",
        "\t\tneighbours.append(distances[i][0])\r\n",
        "\treturn neighbours"
      ],
      "execution_count": 13,
      "outputs": []
    },
    {
      "cell_type": "code",
      "metadata": {
        "id": "ZbB9T_JMrYnI"
      },
      "source": [
        "# Defining the predic_classification function\r\n",
        "def predict_classification(train,y_train,test_row,num_neighbours):\r\n",
        "\tneighbours = get_neighbours(train, test_row, num_neighbours)\r\n",
        "\toutput_values = [y_train[x] for x in neighbours]\r\n",
        "\tprediction = max(set(output_values), key=output_values.count)\r\n",
        "\treturn prediction"
      ],
      "execution_count": 14,
      "outputs": []
    },
    {
      "cell_type": "code",
      "metadata": {
        "colab": {
          "base_uri": "https://localhost:8080/"
        },
        "id": "pjZmJB3brZ7K",
        "outputId": "ec4dfea8-646c-4785-e0fb-04d4b2476875"
      },
      "source": [
        "# Predicting the values for k=3\r\n",
        "y_pred_manual=[]\r\n",
        "ctr=1\r\n",
        "for test in X_test:\r\n",
        "  y_pred_manual.append(predict_classification(X_train,y_train,test,3))\r\n",
        "y_pred_manual=np.array(y_pred_manual)\r\n",
        "accuracy_score(y_test,y_pred_manual)"
      ],
      "execution_count": 15,
      "outputs": [
        {
          "output_type": "execute_result",
          "data": {
            "text/plain": [
              "0.7037037037037037"
            ]
          },
          "metadata": {
            "tags": []
          },
          "execution_count": 15
        }
      ]
    },
    {
      "cell_type": "code",
      "metadata": {
        "colab": {
          "base_uri": "https://localhost:8080/",
          "height": 295
        },
        "id": "k0dJfijZrb2-",
        "outputId": "1b4351fb-7cc3-42d2-9e0d-96c155f1434e"
      },
      "source": [
        "# Plotting the graph of accuracy with variation in k\r\n",
        "accuracy_array_manual = []\r\n",
        "for k in range(1, 20):\r\n",
        "  y_prediction_manual=[]\r\n",
        "  ctr=1\r\n",
        "  for test in X_test:\r\n",
        "    y_prediction_manual.append(predict_classification(X_train,y_train,test,k))\r\n",
        "  y_prediction_manual=np.array(y_pred_manual)\r\n",
        "  accuracy = accuracy_score(y_test, y_prediction_manual)\r\n",
        "  accuracy_array_manual.append(accuracy)\r\n",
        "plt.grid(color='grey', linestyle=':', linewidth=1)\r\n",
        "plt.plot(range(1, 20), accuracy_array, color='red', marker='o')\r\n",
        "plt.xlabel('K (Number of neighbours')\r\n",
        "plt.ylabel('Accuracy')\r\n",
        "plt.title('Testing the accuracy for different values of K using our own model')\r\n",
        "plt.show()"
      ],
      "execution_count": 16,
      "outputs": [
        {
          "output_type": "display_data",
          "data": {
            "image/png": "[encoded data removed]",
            "text/plain": [
              "<Figure size 432x288 with 1 Axes>"
            ]
          },
          "metadata": {
            "tags": [],
            "needs_background": "light"
          }
        }
      ]
    },
    {
      "cell_type": "code",
      "metadata": {
        "colab": {
          "base_uri": "https://localhost:8080/"
        },
        "id": "393ih_y5re8-",
        "outputId": "70aa29b6-4018-40b3-e641-5668d4bd628a"
      },
      "source": [
        "# Printing the confusion matrix\r\n",
        "print(\"The confusion matrix for our manually written algo is \")\r\n",
        "print(confusion_matrix(y_test,y_pred_manual))"
      ],
      "execution_count": 17,
      "outputs": [
        {
          "output_type": "stream",
          "text": [
            "The confusion matrix for our manually written algo is \n",
            "[[20 10]\n",
            " [ 6 18]]\n"
          ],
          "name": "stdout"
        }
      ]
    },
    {
      "cell_type": "markdown",
      "metadata": {
        "id": "orpjQtFSs1Ec"
      },
      "source": [
        "As we can see that both the graphs are approximately same, hence our manually written algorithm is working well"
      ]
    }
  ]
}