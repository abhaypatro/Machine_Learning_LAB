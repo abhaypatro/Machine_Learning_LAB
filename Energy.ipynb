{
  "nbformat": 4,
  "nbformat_minor": 0,
  "metadata": {
    "colab": {
      "name": "Energy.ipynb",
      "provenance": []
    },
    "kernelspec": {
      "name": "python3",
      "display_name": "Python 3"
    }
  },
  "cells": [
    {
      "cell_type": "code",
      "metadata": {
        "id": "ify8EuOADwBy"
      },
      "source": [
        "# Assignment 3\r\n",
        "# Multiple Linear Regression on energy dataset\r\n",
        "# Abhay Charan Patro \r\n",
        "# BTECH/10021/18\r\n",
        "# CSE B"
      ],
      "execution_count": 3,
      "outputs": []
    },
    {
      "cell_type": "code",
      "metadata": {
        "id": "iIuLk8ffu5Z0"
      },
      "source": [
        "# Importing the required modules\r\n",
        "import pandas as pd\r\n",
        "import numpy as np\r\n",
        "import matplotlib.pyplot as plt\r\n",
        "from sklearn.model_selection import train_test_split  \r\n",
        "from sklearn.preprocessing import StandardScaler    \r\n",
        "from sklearn import linear_model\r\n",
        "from sklearn import metrics"
      ],
      "execution_count": 4,
      "outputs": []
    },
    {
      "cell_type": "code",
      "metadata": {
        "id": "FwhjWFa8u56X"
      },
      "source": [
        "# Reading the data\r\n",
        "data=pd.read_csv(\"Energy.txt\")"
      ],
      "execution_count": 5,
      "outputs": []
    },
    {
      "cell_type": "code",
      "metadata": {
        "colab": {
          "base_uri": "https://localhost:8080/",
          "height": 284
        },
        "id": "giCsY0HdvC0w",
        "outputId": "24f925e7-2079-4857-da4f-6233d6aba722"
      },
      "source": [
        "# Describing the data\r\n",
        "data.describe()"
      ],
      "execution_count": 6,
      "outputs": [
        {
          "output_type": "execute_result",
          "data": {
            "text/html": [
              "<div>\n",
              "<style scoped>\n",
              "    .dataframe tbody tr th:only-of-type {\n",
              "        vertical-align: middle;\n",
              "    }\n",
              "\n",
              "    .dataframe tbody tr th {\n",
              "        vertical-align: top;\n",
              "    }\n",
              "\n",
              "    .dataframe thead th {\n",
              "        text-align: right;\n",
              "    }\n",
              "</style>\n",
              "<table border=\"1\" class=\"dataframe\">\n",
              "  <thead>\n",
              "    <tr style=\"text-align: right;\">\n",
              "      <th></th>\n",
              "      <th># T</th>\n",
              "      <th>V</th>\n",
              "      <th>AP</th>\n",
              "      <th>RH</th>\n",
              "      <th>EP</th>\n",
              "    </tr>\n",
              "  </thead>\n",
              "  <tbody>\n",
              "    <tr>\n",
              "      <th>count</th>\n",
              "      <td>7176.000000</td>\n",
              "      <td>7176.000000</td>\n",
              "      <td>7176.000000</td>\n",
              "      <td>7176.000000</td>\n",
              "      <td>7176.000000</td>\n",
              "    </tr>\n",
              "    <tr>\n",
              "      <th>mean</th>\n",
              "      <td>19.629712</td>\n",
              "      <td>54.288154</td>\n",
              "      <td>1013.263032</td>\n",
              "      <td>73.275818</td>\n",
              "      <td>454.431293</td>\n",
              "    </tr>\n",
              "    <tr>\n",
              "      <th>std</th>\n",
              "      <td>7.475256</td>\n",
              "      <td>12.751468</td>\n",
              "      <td>5.964863</td>\n",
              "      <td>14.625093</td>\n",
              "      <td>17.134571</td>\n",
              "    </tr>\n",
              "    <tr>\n",
              "      <th>min</th>\n",
              "      <td>1.810000</td>\n",
              "      <td>25.360000</td>\n",
              "      <td>992.890000</td>\n",
              "      <td>25.560000</td>\n",
              "      <td>420.260000</td>\n",
              "    </tr>\n",
              "    <tr>\n",
              "      <th>25%</th>\n",
              "      <td>13.470000</td>\n",
              "      <td>41.740000</td>\n",
              "      <td>1009.010000</td>\n",
              "      <td>63.202500</td>\n",
              "      <td>439.737500</td>\n",
              "    </tr>\n",
              "    <tr>\n",
              "      <th>50%</th>\n",
              "      <td>20.315000</td>\n",
              "      <td>52.050000</td>\n",
              "      <td>1012.910000</td>\n",
              "      <td>74.895000</td>\n",
              "      <td>451.740000</td>\n",
              "    </tr>\n",
              "    <tr>\n",
              "      <th>75%</th>\n",
              "      <td>25.720000</td>\n",
              "      <td>66.540000</td>\n",
              "      <td>1017.302500</td>\n",
              "      <td>84.925000</td>\n",
              "      <td>468.667500</td>\n",
              "    </tr>\n",
              "    <tr>\n",
              "      <th>max</th>\n",
              "      <td>35.770000</td>\n",
              "      <td>81.560000</td>\n",
              "      <td>1033.300000</td>\n",
              "      <td>100.160000</td>\n",
              "      <td>495.760000</td>\n",
              "    </tr>\n",
              "  </tbody>\n",
              "</table>\n",
              "</div>"
            ],
            "text/plain": [
              "               # T            V           AP           RH           EP\n",
              "count  7176.000000  7176.000000  7176.000000  7176.000000  7176.000000\n",
              "mean     19.629712    54.288154  1013.263032    73.275818   454.431293\n",
              "std       7.475256    12.751468     5.964863    14.625093    17.134571\n",
              "min       1.810000    25.360000   992.890000    25.560000   420.260000\n",
              "25%      13.470000    41.740000  1009.010000    63.202500   439.737500\n",
              "50%      20.315000    52.050000  1012.910000    74.895000   451.740000\n",
              "75%      25.720000    66.540000  1017.302500    84.925000   468.667500\n",
              "max      35.770000    81.560000  1033.300000   100.160000   495.760000"
            ]
          },
          "metadata": {
            "tags": []
          },
          "execution_count": 6
        }
      ]
    },
    {
      "cell_type": "code",
      "metadata": {
        "colab": {
          "base_uri": "https://localhost:8080/",
          "height": 195
        },
        "id": "AgxNIr67vDnj",
        "outputId": "871c9313-2306-427d-a10a-0a0e50c3ee72"
      },
      "source": [
        "# First few entries of the data\r\n",
        "data.head()"
      ],
      "execution_count": 7,
      "outputs": [
        {
          "output_type": "execute_result",
          "data": {
            "text/html": [
              "<div>\n",
              "<style scoped>\n",
              "    .dataframe tbody tr th:only-of-type {\n",
              "        vertical-align: middle;\n",
              "    }\n",
              "\n",
              "    .dataframe tbody tr th {\n",
              "        vertical-align: top;\n",
              "    }\n",
              "\n",
              "    .dataframe thead th {\n",
              "        text-align: right;\n",
              "    }\n",
              "</style>\n",
              "<table border=\"1\" class=\"dataframe\">\n",
              "  <thead>\n",
              "    <tr style=\"text-align: right;\">\n",
              "      <th></th>\n",
              "      <th># T</th>\n",
              "      <th>V</th>\n",
              "      <th>AP</th>\n",
              "      <th>RH</th>\n",
              "      <th>EP</th>\n",
              "    </tr>\n",
              "  </thead>\n",
              "  <tbody>\n",
              "    <tr>\n",
              "      <th>0</th>\n",
              "      <td>8.58</td>\n",
              "      <td>38.38</td>\n",
              "      <td>1021.03</td>\n",
              "      <td>84.37</td>\n",
              "      <td>482.26</td>\n",
              "    </tr>\n",
              "    <tr>\n",
              "      <th>1</th>\n",
              "      <td>21.79</td>\n",
              "      <td>58.20</td>\n",
              "      <td>1017.21</td>\n",
              "      <td>66.74</td>\n",
              "      <td>446.94</td>\n",
              "    </tr>\n",
              "    <tr>\n",
              "      <th>2</th>\n",
              "      <td>16.64</td>\n",
              "      <td>48.92</td>\n",
              "      <td>1011.55</td>\n",
              "      <td>78.76</td>\n",
              "      <td>452.56</td>\n",
              "    </tr>\n",
              "    <tr>\n",
              "      <th>3</th>\n",
              "      <td>31.38</td>\n",
              "      <td>71.32</td>\n",
              "      <td>1009.17</td>\n",
              "      <td>60.42</td>\n",
              "      <td>433.44</td>\n",
              "    </tr>\n",
              "    <tr>\n",
              "      <th>4</th>\n",
              "      <td>9.20</td>\n",
              "      <td>40.03</td>\n",
              "      <td>1017.05</td>\n",
              "      <td>92.46</td>\n",
              "      <td>480.38</td>\n",
              "    </tr>\n",
              "  </tbody>\n",
              "</table>\n",
              "</div>"
            ],
            "text/plain": [
              "     # T      V       AP     RH      EP\n",
              "0   8.58  38.38  1021.03  84.37  482.26\n",
              "1  21.79  58.20  1017.21  66.74  446.94\n",
              "2  16.64  48.92  1011.55  78.76  452.56\n",
              "3  31.38  71.32  1009.17  60.42  433.44\n",
              "4   9.20  40.03  1017.05  92.46  480.38"
            ]
          },
          "metadata": {
            "tags": []
          },
          "execution_count": 7
        }
      ]
    },
    {
      "cell_type": "code",
      "metadata": {
        "colab": {
          "base_uri": "https://localhost:8080/"
        },
        "id": "6jS17m8rvMVL",
        "outputId": "cb95f61a-9857-45b0-f4bf-2bb336873c33"
      },
      "source": [
        "# Checking for empty data fields\r\n",
        "flag=data.isnull().values.any()\r\n",
        "if(flag):\r\n",
        "  print(\"The data set contains empty field\")\r\n",
        "else:\r\n",
        "  print(\"The data set does'nt contain any empty field\")"
      ],
      "execution_count": 8,
      "outputs": [
        {
          "output_type": "stream",
          "text": [
            "The data set does'nt contain any empty field\n"
          ],
          "name": "stdout"
        }
      ]
    },
    {
      "cell_type": "code",
      "metadata": {
        "id": "VvKa0_DDvN7f"
      },
      "source": [
        "# Splitting the data into train and test set\r\n",
        "X=data.iloc[:,0:4]\r\n",
        "y=data.iloc[:,4]\r\n",
        "X_train,X_test,y_train,y_test=train_test_split(X,y,test_size=0.2,random_state=0) "
      ],
      "execution_count": 9,
      "outputs": []
    },
    {
      "cell_type": "code",
      "metadata": {
        "id": "Ky66TnI5vSzT"
      },
      "source": [
        "# Mean Normalizing the data \r\n",
        "st_x= StandardScaler()    \r\n",
        "X_train= st_x.fit_transform(X_train)    \r\n",
        "X_test= st_x.transform(X_test)\r\n",
        "y_test=np.array(y_test)\r\n",
        "y_train=np.array(y_train)\r\n",
        "y_test=y_test.reshape(y_test.shape[0],1)\r\n",
        "y_train=y_train.reshape(y_train.shape[0],1);"
      ],
      "execution_count": 10,
      "outputs": []
    },
    {
      "cell_type": "markdown",
      "metadata": {
        "id": "y38huPURvY5O"
      },
      "source": [
        "**METHOD 1 - Using Sci-kit Learn Library**"
      ]
    },
    {
      "cell_type": "code",
      "metadata": {
        "colab": {
          "base_uri": "https://localhost:8080/"
        },
        "id": "O67nG3lgvZKb",
        "outputId": "24bbe713-f1bb-469e-e754-e9a3b68fe15c"
      },
      "source": [
        "# Fitting the model to X_train and y_train\r\n",
        "cf = linear_model.LinearRegression()\r\n",
        "cf.fit(X_train,y_train)"
      ],
      "execution_count": 11,
      "outputs": [
        {
          "output_type": "execute_result",
          "data": {
            "text/plain": [
              "LinearRegression(copy_X=True, fit_intercept=True, n_jobs=None, normalize=False)"
            ]
          },
          "metadata": {
            "tags": []
          },
          "execution_count": 11
        }
      ]
    },
    {
      "cell_type": "code",
      "metadata": {
        "id": "Mx9Y9JhLvcA5"
      },
      "source": [
        "# Making Predictions on the test set\r\n",
        "y_pred=cf.predict(X_test)"
      ],
      "execution_count": 12,
      "outputs": []
    },
    {
      "cell_type": "code",
      "metadata": {
        "colab": {
          "base_uri": "https://localhost:8080/"
        },
        "id": "-pO3S0Duvdcz",
        "outputId": "9c911853-a0c4-4193-c662-7ba138e20f92"
      },
      "source": [
        "# Printing different errors \r\n",
        "print('Mean Absolute Error :',\" \", metrics.mean_absolute_error(y_test,y_pred))\r\n",
        "print('Mean Squared Error :',\" \", metrics.mean_squared_error(y_test,y_pred))\r\n",
        "print('Root Mean Squared Error :',\" \", np.sqrt(metrics.mean_squared_error(y_test,y_pred)))"
      ],
      "execution_count": 13,
      "outputs": [
        {
          "output_type": "stream",
          "text": [
            "Mean Absolute Error :   3.641520704401655\n",
            "Mean Squared Error :   20.338746240568465\n",
            "Root Mean Squared Error :   4.509849913308476\n"
          ],
          "name": "stdout"
        }
      ]
    },
    {
      "cell_type": "code",
      "metadata": {
        "colab": {
          "base_uri": "https://localhost:8080/"
        },
        "id": "6103ysMhvero",
        "outputId": "b2213c7a-1277-408d-b09f-49d753da22f3"
      },
      "source": [
        "# Printing the R-squared metric\r\n",
        "r2_sklearn=metrics.r2_score(y_test,y_pred)\r\n",
        "print(\"The R-squared metric using sk-learn is \",r2_sklearn)"
      ],
      "execution_count": 14,
      "outputs": [
        {
          "output_type": "stream",
          "text": [
            "The R-squared metric using sk-learn is  0.9295025788888989\n"
          ],
          "name": "stdout"
        }
      ]
    },
    {
      "cell_type": "markdown",
      "metadata": {
        "id": "v3N0XmVwvj2t"
      },
      "source": [
        "**METHOD 2 - Writting the algorithm manually**"
      ]
    },
    {
      "cell_type": "code",
      "metadata": {
        "id": "LLeEXXVgvg2i"
      },
      "source": [
        "# Cost function\r\n",
        "def computecost(X,y,params):\r\n",
        "  H=np.matmul(X,params)\r\n",
        "  H=H-y\r\n",
        "  H=np.matmul(np.transpose(H),H)\r\n",
        "  J=H/(2*X.shape[0])\r\n",
        "  return J"
      ],
      "execution_count": 15,
      "outputs": []
    },
    {
      "cell_type": "code",
      "metadata": {
        "id": "638Eqpy1vkOq"
      },
      "source": [
        "# Defining the gradient descent function\r\n",
        "def Gradientdescent(alpha,iteration,X,y):\r\n",
        "  # To return parameters m and b\r\n",
        "  prev_error=0\r\n",
        "  size=X.shape[0]\r\n",
        "  params=np.random.rand(X.shape[1]+1,1)\r\n",
        "  a=np.ones(size)\r\n",
        "  a=a.reshape(size,1)\r\n",
        "  X=np.concatenate((a,X),axis=1)\r\n",
        "  Jhist=computecost(X,y,params)\r\n",
        "  iter=[]\r\n",
        "  cost=[]\r\n",
        "  for i in range(0,iteration):\r\n",
        "    cost.append(Jhist[0])\r\n",
        "    iter.append(i+1)\r\n",
        "    gama=np.matmul(X,params) \r\n",
        "    gama=gama-y  \r\n",
        "    gama=(np.matmul(np.transpose(gama),X))/size\r\n",
        "    params=params-alpha*np.transpose(gama)\r\n",
        "    Jnew=computecost(X,y,params)\r\n",
        "    Jhist=Jnew\r\n",
        "  cost=np.array(cost)\r\n",
        "  iter=np.array(iter)\r\n",
        "  return cost,iter,params"
      ],
      "execution_count": 16,
      "outputs": []
    },
    {
      "cell_type": "code",
      "metadata": {
        "id": "n07NDvUvvpuX"
      },
      "source": [
        "# Defining the prediction function\r\n",
        "def predictor(params,X):\r\n",
        "  size=X.shape[0]\r\n",
        "  a=np.ones(size)\r\n",
        "  a=a.reshape(size,1)\r\n",
        "  X=np.concatenate((a,X),axis=1)\r\n",
        "  return np.matmul(X,params)"
      ],
      "execution_count": 17,
      "outputs": []
    },
    {
      "cell_type": "code",
      "metadata": {
        "id": "Y7QB9OPWvrIZ"
      },
      "source": [
        "# Running Gradient Descent\r\n",
        "cost,iter,params=Gradientdescent(0.03,4000,X_train,y_train)"
      ],
      "execution_count": 18,
      "outputs": []
    },
    {
      "cell_type": "code",
      "metadata": {
        "colab": {
          "base_uri": "https://localhost:8080/",
          "height": 295
        },
        "id": "jUJaWgz-vsfR",
        "outputId": "58968f33-14a5-4c25-f986-fb1c13eb381d"
      },
      "source": [
        "# Plotting the variation of cost with number of iterations of gradient descent\r\n",
        "plt.plot(iter,cost)\r\n",
        "plt.title(\"Variation of cost with number of iterations of gradient descent\")\r\n",
        "plt.xlabel(\"Iterations\")\r\n",
        "plt.ylabel('Cost')\r\n",
        "plt.show()"
      ],
      "execution_count": 19,
      "outputs": [
        {
          "output_type": "display_data",
          "data": {
            "image/png": "[encoded data removed]",
            "text/plain": [
              "<Figure size 432x288 with 1 Axes>"
            ]
          },
          "metadata": {
            "tags": [],
            "needs_background": "light"
          }
        }
      ]
    },
    {
      "cell_type": "code",
      "metadata": {
        "id": "ZhVOPTZmvtxj"
      },
      "source": [
        "# Predicting the values of the test set\r\n",
        "y_pred_manual=predictor(params,X_test)"
      ],
      "execution_count": 20,
      "outputs": []
    },
    {
      "cell_type": "code",
      "metadata": {
        "colab": {
          "base_uri": "https://localhost:8080/"
        },
        "id": "wkaVisCiwiT_",
        "outputId": "45d0aa2b-1e75-4616-dcf8-fd2848dcb1c9"
      },
      "source": [
        "# Printing different errors \r\n",
        "print('Mean Absolute Error :',\" \", metrics.mean_absolute_error(y_test,y_pred_manual))\r\n",
        "print('Mean Squared Error :',\" \", metrics.mean_squared_error(y_test,y_pred_manual))\r\n",
        "print('Root Mean Squared Error :',\" \", np.sqrt(metrics.mean_squared_error(y_test,y_pred_manual)))"
      ],
      "execution_count": 21,
      "outputs": [
        {
          "output_type": "stream",
          "text": [
            "Mean Absolute Error :   3.6415220848846515\n",
            "Mean Squared Error :   20.338755922924925\n",
            "Root Mean Squared Error :   4.509850986776051\n"
          ],
          "name": "stdout"
        }
      ]
    },
    {
      "cell_type": "code",
      "metadata": {
        "colab": {
          "base_uri": "https://localhost:8080/"
        },
        "id": "MzZJEbSOwjp-",
        "outputId": "73fbe69a-6957-43b9-ddcd-bdd2ed4e90b9"
      },
      "source": [
        "# Finding the r2_metric for our manually written algo\r\n",
        "r2_manual=metrics.r2_score(y_test,y_pred_manual)\r\n",
        "print(\"The R-squared metric using our own manual algo is \",r2_manual)"
      ],
      "execution_count": 22,
      "outputs": [
        {
          "output_type": "stream",
          "text": [
            "The R-squared metric using our own manual algo is  0.9295025453282677\n"
          ],
          "name": "stdout"
        }
      ]
    },
    {
      "cell_type": "markdown",
      "metadata": {
        "id": "UjDDzbF4wnqU"
      },
      "source": [
        "**Comparing Scikit-Learn's model with our model**"
      ]
    },
    {
      "cell_type": "code",
      "metadata": {
        "colab": {
          "base_uri": "https://localhost:8080/"
        },
        "id": "laDzdzpIwlxi",
        "outputId": "8b0e1a4a-54fc-402f-f57d-2953b73f07c1"
      },
      "source": [
        "print(\"The parameters learnt using our manual algo are \",params[0][0],\", \",params[1][0],\", \",params[2][0])\r\n",
        "print(\"The parameters learnt using sklearn library are \",cf.intercept_[0],\", \",cf.coef_[0][0],\", \",cf.coef_[0][1])"
      ],
      "execution_count": 23,
      "outputs": [
        {
          "output_type": "stream",
          "text": [
            "The parameters learnt using our manual algo are  454.5316585365845 ,  -14.785866412757311 ,  -3.0375547036437176\n",
            "The parameters learnt using sklearn library are  454.5316585365854 ,  -14.78590721235076 ,  -3.0375243552597753\n"
          ],
          "name": "stdout"
        }
      ]
    },
    {
      "cell_type": "code",
      "metadata": {
        "colab": {
          "base_uri": "https://localhost:8080/"
        },
        "id": "kyuI9wXNwo-C",
        "outputId": "8833d97e-08bf-45cb-d1b4-ce473b59e9c5"
      },
      "source": [
        "print(\"The R-squared metric using our own manual algo is \",r2_manual)\r\n",
        "print(\"The R-squared metric using sk-learn is \",r2_sklearn)"
      ],
      "execution_count": 24,
      "outputs": [
        {
          "output_type": "stream",
          "text": [
            "The R-squared metric using our own manual algo is  0.9295025453282677\n",
            "The R-squared metric using sk-learn is  0.9295025788888989\n"
          ],
          "name": "stdout"
        }
      ]
    },
    {
      "cell_type": "markdown",
      "metadata": {
        "id": "X2eySOK0wumD"
      },
      "source": [
        "Hence we can see that our model is giving almost same results to that of Scikit-Learn's Model"
      ]
    }
  ]
}