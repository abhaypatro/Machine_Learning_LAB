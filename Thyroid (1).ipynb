{
  "nbformat": 4,
  "nbformat_minor": 0,
  "metadata": {
    "colab": {
      "name": "Thyroid.ipynb",
      "provenance": [],
      "collapsed_sections": []
    },
    "kernelspec": {
      "name": "python3",
      "display_name": "Python 3"
    }
  },
  "cells": [
    {
      "cell_type": "code",
      "metadata": {
        "id": "-_wERTFcuGmm"
      },
      "source": [
        "# Assignment 3\r\n",
        "# KNN on thyroid dataset\r\n",
        "# Abhay Charan Patro \r\n",
        "# BTECH/10021/18\r\n",
        "# CSE B"
      ],
      "execution_count": 2,
      "outputs": []
    },
    {
      "cell_type": "code",
      "metadata": {
        "id": "zKbEE-F3bb3s"
      },
      "source": [
        "# Importing the required modules\r\n",
        "import pandas as pd\r\n",
        "import numpy as np\r\n",
        "import matplotlib.pyplot as plt\r\n",
        "from sklearn.model_selection import train_test_split  \r\n",
        "from sklearn.preprocessing import StandardScaler    \r\n",
        "from sklearn.neighbors import KNeighborsClassifier\r\n",
        "from sklearn.metrics import accuracy_score,confusion_matrix"
      ],
      "execution_count": 3,
      "outputs": []
    },
    {
      "cell_type": "code",
      "metadata": {
        "id": "QIcl8jy9buRU"
      },
      "source": [
        "# Reading the data\r\n",
        "data=pd.read_csv(\"Thyroid.txt\")"
      ],
      "execution_count": 4,
      "outputs": []
    },
    {
      "cell_type": "code",
      "metadata": {
        "colab": {
          "base_uri": "https://localhost:8080/",
          "height": 304
        },
        "id": "qL5W64X1b0H2",
        "outputId": "2ee9c90d-1289-45c6-d94c-dc3e82831416"
      },
      "source": [
        "# Describing the data\r\n",
        "data.describe()"
      ],
      "execution_count": 5,
      "outputs": [
        {
          "output_type": "execute_result",
          "data": {
            "text/html": [
              "<div>\n",
              "<style scoped>\n",
              "    .dataframe tbody tr th:only-of-type {\n",
              "        vertical-align: middle;\n",
              "    }\n",
              "\n",
              "    .dataframe tbody tr th {\n",
              "        vertical-align: top;\n",
              "    }\n",
              "\n",
              "    .dataframe thead th {\n",
              "        text-align: right;\n",
              "    }\n",
              "</style>\n",
              "<table border=\"1\" class=\"dataframe\">\n",
              "  <thead>\n",
              "    <tr style=\"text-align: right;\">\n",
              "      <th></th>\n",
              "      <th>on_thyroxine</th>\n",
              "      <th>query_on_thyroxine</th>\n",
              "      <th>on_antithyroid_medication</th>\n",
              "      <th>thyroid_surgery</th>\n",
              "      <th>query_hypothyroid</th>\n",
              "      <th>query_hyperthyroid</th>\n",
              "      <th>pregnant</th>\n",
              "      <th>sick</th>\n",
              "      <th>tumor</th>\n",
              "      <th>lithium</th>\n",
              "      <th>goitre</th>\n",
              "      <th>TSH_measured</th>\n",
              "      <th>T3_measured</th>\n",
              "      <th>TT4_measured</th>\n",
              "      <th>T4U_measured</th>\n",
              "      <th>FTI_measured</th>\n",
              "      <th>age</th>\n",
              "      <th>sex</th>\n",
              "      <th>TSH</th>\n",
              "      <th>T3</th>\n",
              "      <th>TT4</th>\n",
              "      <th>T4U</th>\n",
              "      <th>FTI</th>\n",
              "      <th>classes</th>\n",
              "    </tr>\n",
              "  </thead>\n",
              "  <tbody>\n",
              "    <tr>\n",
              "      <th>count</th>\n",
              "      <td>3152.000000</td>\n",
              "      <td>3152.000000</td>\n",
              "      <td>3152.000000</td>\n",
              "      <td>3152.000000</td>\n",
              "      <td>3152.000000</td>\n",
              "      <td>3152.000000</td>\n",
              "      <td>3152.000000</td>\n",
              "      <td>3152.000000</td>\n",
              "      <td>3152.000000</td>\n",
              "      <td>3152.000000</td>\n",
              "      <td>3152.000000</td>\n",
              "      <td>3152.000000</td>\n",
              "      <td>3152.000000</td>\n",
              "      <td>3152.000000</td>\n",
              "      <td>3152.000000</td>\n",
              "      <td>3152.000000</td>\n",
              "      <td>3152.000000</td>\n",
              "      <td>3152.000000</td>\n",
              "      <td>3152.000000</td>\n",
              "      <td>3152.000000</td>\n",
              "      <td>3152.000000</td>\n",
              "      <td>3152.000000</td>\n",
              "      <td>3152.000000</td>\n",
              "      <td>3152.000000</td>\n",
              "    </tr>\n",
              "    <tr>\n",
              "      <th>mean</th>\n",
              "      <td>0.145305</td>\n",
              "      <td>0.017449</td>\n",
              "      <td>0.013325</td>\n",
              "      <td>0.032995</td>\n",
              "      <td>0.075825</td>\n",
              "      <td>0.077094</td>\n",
              "      <td>0.019987</td>\n",
              "      <td>0.030774</td>\n",
              "      <td>0.012690</td>\n",
              "      <td>0.000635</td>\n",
              "      <td>0.031409</td>\n",
              "      <td>0.852157</td>\n",
              "      <td>0.779822</td>\n",
              "      <td>0.921003</td>\n",
              "      <td>0.921320</td>\n",
              "      <td>0.921637</td>\n",
              "      <td>51.359772</td>\n",
              "      <td>0.295051</td>\n",
              "      <td>5.689591</td>\n",
              "      <td>1.992291</td>\n",
              "      <td>109.016783</td>\n",
              "      <td>0.983284</td>\n",
              "      <td>114.809613</td>\n",
              "      <td>0.091371</td>\n",
              "    </tr>\n",
              "    <tr>\n",
              "      <th>std</th>\n",
              "      <td>0.352464</td>\n",
              "      <td>0.130959</td>\n",
              "      <td>0.114680</td>\n",
              "      <td>0.178652</td>\n",
              "      <td>0.264760</td>\n",
              "      <td>0.266783</td>\n",
              "      <td>0.139979</td>\n",
              "      <td>0.172733</td>\n",
              "      <td>0.111952</td>\n",
              "      <td>0.025186</td>\n",
              "      <td>0.174447</td>\n",
              "      <td>0.355000</td>\n",
              "      <td>0.414432</td>\n",
              "      <td>0.269778</td>\n",
              "      <td>0.269282</td>\n",
              "      <td>0.268785</td>\n",
              "      <td>19.226176</td>\n",
              "      <td>0.456138</td>\n",
              "      <td>22.953469</td>\n",
              "      <td>1.036009</td>\n",
              "      <td>45.085350</td>\n",
              "      <td>0.234424</td>\n",
              "      <td>59.028114</td>\n",
              "      <td>0.288181</td>\n",
              "    </tr>\n",
              "    <tr>\n",
              "      <th>min</th>\n",
              "      <td>0.000000</td>\n",
              "      <td>0.000000</td>\n",
              "      <td>0.000000</td>\n",
              "      <td>0.000000</td>\n",
              "      <td>0.000000</td>\n",
              "      <td>0.000000</td>\n",
              "      <td>0.000000</td>\n",
              "      <td>0.000000</td>\n",
              "      <td>0.000000</td>\n",
              "      <td>0.000000</td>\n",
              "      <td>0.000000</td>\n",
              "      <td>0.000000</td>\n",
              "      <td>0.000000</td>\n",
              "      <td>0.000000</td>\n",
              "      <td>0.000000</td>\n",
              "      <td>0.000000</td>\n",
              "      <td>1.000000</td>\n",
              "      <td>0.000000</td>\n",
              "      <td>0.000000</td>\n",
              "      <td>0.000000</td>\n",
              "      <td>2.000000</td>\n",
              "      <td>0.000000</td>\n",
              "      <td>0.000000</td>\n",
              "      <td>0.000000</td>\n",
              "    </tr>\n",
              "    <tr>\n",
              "      <th>25%</th>\n",
              "      <td>0.000000</td>\n",
              "      <td>0.000000</td>\n",
              "      <td>0.000000</td>\n",
              "      <td>0.000000</td>\n",
              "      <td>0.000000</td>\n",
              "      <td>0.000000</td>\n",
              "      <td>0.000000</td>\n",
              "      <td>0.000000</td>\n",
              "      <td>0.000000</td>\n",
              "      <td>0.000000</td>\n",
              "      <td>0.000000</td>\n",
              "      <td>1.000000</td>\n",
              "      <td>1.000000</td>\n",
              "      <td>1.000000</td>\n",
              "      <td>1.000000</td>\n",
              "      <td>1.000000</td>\n",
              "      <td>35.000000</td>\n",
              "      <td>0.000000</td>\n",
              "      <td>0.000000</td>\n",
              "      <td>1.400000</td>\n",
              "      <td>83.000000</td>\n",
              "      <td>0.850000</td>\n",
              "      <td>90.000000</td>\n",
              "      <td>0.000000</td>\n",
              "    </tr>\n",
              "    <tr>\n",
              "      <th>50%</th>\n",
              "      <td>0.000000</td>\n",
              "      <td>0.000000</td>\n",
              "      <td>0.000000</td>\n",
              "      <td>0.000000</td>\n",
              "      <td>0.000000</td>\n",
              "      <td>0.000000</td>\n",
              "      <td>0.000000</td>\n",
              "      <td>0.000000</td>\n",
              "      <td>0.000000</td>\n",
              "      <td>0.000000</td>\n",
              "      <td>0.000000</td>\n",
              "      <td>1.000000</td>\n",
              "      <td>1.000000</td>\n",
              "      <td>1.000000</td>\n",
              "      <td>1.000000</td>\n",
              "      <td>1.000000</td>\n",
              "      <td>54.000000</td>\n",
              "      <td>0.000000</td>\n",
              "      <td>0.700000</td>\n",
              "      <td>1.900000</td>\n",
              "      <td>104.000000</td>\n",
              "      <td>0.960000</td>\n",
              "      <td>107.000000</td>\n",
              "      <td>0.000000</td>\n",
              "    </tr>\n",
              "    <tr>\n",
              "      <th>75%</th>\n",
              "      <td>0.000000</td>\n",
              "      <td>0.000000</td>\n",
              "      <td>0.000000</td>\n",
              "      <td>0.000000</td>\n",
              "      <td>0.000000</td>\n",
              "      <td>0.000000</td>\n",
              "      <td>0.000000</td>\n",
              "      <td>0.000000</td>\n",
              "      <td>0.000000</td>\n",
              "      <td>0.000000</td>\n",
              "      <td>0.000000</td>\n",
              "      <td>1.000000</td>\n",
              "      <td>1.000000</td>\n",
              "      <td>1.000000</td>\n",
              "      <td>1.000000</td>\n",
              "      <td>1.000000</td>\n",
              "      <td>67.000000</td>\n",
              "      <td>1.000000</td>\n",
              "      <td>2.200000</td>\n",
              "      <td>2.400000</td>\n",
              "      <td>128.000000</td>\n",
              "      <td>1.070000</td>\n",
              "      <td>128.000000</td>\n",
              "      <td>0.000000</td>\n",
              "    </tr>\n",
              "    <tr>\n",
              "      <th>max</th>\n",
              "      <td>1.000000</td>\n",
              "      <td>1.000000</td>\n",
              "      <td>1.000000</td>\n",
              "      <td>1.000000</td>\n",
              "      <td>1.000000</td>\n",
              "      <td>1.000000</td>\n",
              "      <td>1.000000</td>\n",
              "      <td>1.000000</td>\n",
              "      <td>1.000000</td>\n",
              "      <td>1.000000</td>\n",
              "      <td>1.000000</td>\n",
              "      <td>1.000000</td>\n",
              "      <td>1.000000</td>\n",
              "      <td>1.000000</td>\n",
              "      <td>1.000000</td>\n",
              "      <td>1.000000</td>\n",
              "      <td>98.000000</td>\n",
              "      <td>1.000000</td>\n",
              "      <td>530.000000</td>\n",
              "      <td>10.200000</td>\n",
              "      <td>450.000000</td>\n",
              "      <td>2.210000</td>\n",
              "      <td>881.000000</td>\n",
              "      <td>1.000000</td>\n",
              "    </tr>\n",
              "  </tbody>\n",
              "</table>\n",
              "</div>"
            ],
            "text/plain": [
              "       on_thyroxine  query_on_thyroxine  ...          FTI      classes\n",
              "count   3152.000000         3152.000000  ...  3152.000000  3152.000000\n",
              "mean       0.145305            0.017449  ...   114.809613     0.091371\n",
              "std        0.352464            0.130959  ...    59.028114     0.288181\n",
              "min        0.000000            0.000000  ...     0.000000     0.000000\n",
              "25%        0.000000            0.000000  ...    90.000000     0.000000\n",
              "50%        0.000000            0.000000  ...   107.000000     0.000000\n",
              "75%        0.000000            0.000000  ...   128.000000     0.000000\n",
              "max        1.000000            1.000000  ...   881.000000     1.000000\n",
              "\n",
              "[8 rows x 24 columns]"
            ]
          },
          "metadata": {
            "tags": []
          },
          "execution_count": 5
        }
      ]
    },
    {
      "cell_type": "code",
      "metadata": {
        "colab": {
          "base_uri": "https://localhost:8080/",
          "height": 215
        },
        "id": "TyKDT4LEb1MZ",
        "outputId": "90a6b7b2-ea15-486e-b85a-b55c8f339d2c"
      },
      "source": [
        "# First few entries of the data\r\n",
        "data.head()"
      ],
      "execution_count": 6,
      "outputs": [
        {
          "output_type": "execute_result",
          "data": {
            "text/html": [
              "<div>\n",
              "<style scoped>\n",
              "    .dataframe tbody tr th:only-of-type {\n",
              "        vertical-align: middle;\n",
              "    }\n",
              "\n",
              "    .dataframe tbody tr th {\n",
              "        vertical-align: top;\n",
              "    }\n",
              "\n",
              "    .dataframe thead th {\n",
              "        text-align: right;\n",
              "    }\n",
              "</style>\n",
              "<table border=\"1\" class=\"dataframe\">\n",
              "  <thead>\n",
              "    <tr style=\"text-align: right;\">\n",
              "      <th></th>\n",
              "      <th>on_thyroxine</th>\n",
              "      <th>query_on_thyroxine</th>\n",
              "      <th>on_antithyroid_medication</th>\n",
              "      <th>thyroid_surgery</th>\n",
              "      <th>query_hypothyroid</th>\n",
              "      <th>query_hyperthyroid</th>\n",
              "      <th>pregnant</th>\n",
              "      <th>sick</th>\n",
              "      <th>tumor</th>\n",
              "      <th>lithium</th>\n",
              "      <th>goitre</th>\n",
              "      <th>TSH_measured</th>\n",
              "      <th>T3_measured</th>\n",
              "      <th>TT4_measured</th>\n",
              "      <th>T4U_measured</th>\n",
              "      <th>FTI_measured</th>\n",
              "      <th>age</th>\n",
              "      <th>sex</th>\n",
              "      <th>TSH</th>\n",
              "      <th>T3</th>\n",
              "      <th>TT4</th>\n",
              "      <th>T4U</th>\n",
              "      <th>FTI</th>\n",
              "      <th>classes</th>\n",
              "    </tr>\n",
              "  </thead>\n",
              "  <tbody>\n",
              "    <tr>\n",
              "      <th>0</th>\n",
              "      <td>0</td>\n",
              "      <td>0</td>\n",
              "      <td>0</td>\n",
              "      <td>0</td>\n",
              "      <td>0</td>\n",
              "      <td>0</td>\n",
              "      <td>0</td>\n",
              "      <td>0</td>\n",
              "      <td>0</td>\n",
              "      <td>0</td>\n",
              "      <td>0</td>\n",
              "      <td>1</td>\n",
              "      <td>1</td>\n",
              "      <td>1</td>\n",
              "      <td>1</td>\n",
              "      <td>1</td>\n",
              "      <td>80</td>\n",
              "      <td>1</td>\n",
              "      <td>1.4</td>\n",
              "      <td>0.8</td>\n",
              "      <td>105.0</td>\n",
              "      <td>0.88</td>\n",
              "      <td>120.0</td>\n",
              "      <td>1</td>\n",
              "    </tr>\n",
              "    <tr>\n",
              "      <th>1</th>\n",
              "      <td>0</td>\n",
              "      <td>0</td>\n",
              "      <td>0</td>\n",
              "      <td>0</td>\n",
              "      <td>0</td>\n",
              "      <td>0</td>\n",
              "      <td>0</td>\n",
              "      <td>0</td>\n",
              "      <td>0</td>\n",
              "      <td>0</td>\n",
              "      <td>0</td>\n",
              "      <td>1</td>\n",
              "      <td>1</td>\n",
              "      <td>1</td>\n",
              "      <td>1</td>\n",
              "      <td>1</td>\n",
              "      <td>74</td>\n",
              "      <td>0</td>\n",
              "      <td>0.0</td>\n",
              "      <td>0.7</td>\n",
              "      <td>98.0</td>\n",
              "      <td>0.81</td>\n",
              "      <td>121.0</td>\n",
              "      <td>1</td>\n",
              "    </tr>\n",
              "    <tr>\n",
              "      <th>2</th>\n",
              "      <td>0</td>\n",
              "      <td>0</td>\n",
              "      <td>0</td>\n",
              "      <td>0</td>\n",
              "      <td>0</td>\n",
              "      <td>0</td>\n",
              "      <td>0</td>\n",
              "      <td>0</td>\n",
              "      <td>0</td>\n",
              "      <td>0</td>\n",
              "      <td>0</td>\n",
              "      <td>1</td>\n",
              "      <td>1</td>\n",
              "      <td>1</td>\n",
              "      <td>1</td>\n",
              "      <td>1</td>\n",
              "      <td>32</td>\n",
              "      <td>0</td>\n",
              "      <td>1.4</td>\n",
              "      <td>1.1</td>\n",
              "      <td>121.0</td>\n",
              "      <td>1.11</td>\n",
              "      <td>109.0</td>\n",
              "      <td>1</td>\n",
              "    </tr>\n",
              "    <tr>\n",
              "      <th>3</th>\n",
              "      <td>0</td>\n",
              "      <td>0</td>\n",
              "      <td>0</td>\n",
              "      <td>0</td>\n",
              "      <td>0</td>\n",
              "      <td>0</td>\n",
              "      <td>0</td>\n",
              "      <td>0</td>\n",
              "      <td>0</td>\n",
              "      <td>0</td>\n",
              "      <td>0</td>\n",
              "      <td>1</td>\n",
              "      <td>1</td>\n",
              "      <td>1</td>\n",
              "      <td>1</td>\n",
              "      <td>1</td>\n",
              "      <td>42</td>\n",
              "      <td>0</td>\n",
              "      <td>2.3</td>\n",
              "      <td>1.1</td>\n",
              "      <td>93.0</td>\n",
              "      <td>0.73</td>\n",
              "      <td>127.0</td>\n",
              "      <td>1</td>\n",
              "    </tr>\n",
              "    <tr>\n",
              "      <th>4</th>\n",
              "      <td>0</td>\n",
              "      <td>0</td>\n",
              "      <td>0</td>\n",
              "      <td>0</td>\n",
              "      <td>0</td>\n",
              "      <td>0</td>\n",
              "      <td>0</td>\n",
              "      <td>0</td>\n",
              "      <td>0</td>\n",
              "      <td>0</td>\n",
              "      <td>0</td>\n",
              "      <td>1</td>\n",
              "      <td>1</td>\n",
              "      <td>1</td>\n",
              "      <td>1</td>\n",
              "      <td>1</td>\n",
              "      <td>89</td>\n",
              "      <td>1</td>\n",
              "      <td>0.8</td>\n",
              "      <td>0.8</td>\n",
              "      <td>111.0</td>\n",
              "      <td>0.68</td>\n",
              "      <td>165.0</td>\n",
              "      <td>1</td>\n",
              "    </tr>\n",
              "  </tbody>\n",
              "</table>\n",
              "</div>"
            ],
            "text/plain": [
              "   on_thyroxine  query_on_thyroxine  ...    FTI  classes\n",
              "0             0                   0  ...  120.0        1\n",
              "1             0                   0  ...  121.0        1\n",
              "2             0                   0  ...  109.0        1\n",
              "3             0                   0  ...  127.0        1\n",
              "4             0                   0  ...  165.0        1\n",
              "\n",
              "[5 rows x 24 columns]"
            ]
          },
          "metadata": {
            "tags": []
          },
          "execution_count": 6
        }
      ]
    },
    {
      "cell_type": "code",
      "metadata": {
        "colab": {
          "base_uri": "https://localhost:8080/"
        },
        "id": "tOY3jfaGcaDR",
        "outputId": "236f3068-db30-408f-ea30-5cb442c4596e"
      },
      "source": [
        "# Checking for null values\r\n",
        "flag=data.isnull().values.any()\r\n",
        "if flag:\r\n",
        "  print(\"Data contains null values\")\r\n",
        "else:\r\n",
        "  print(\"Data does not contain any null value\")"
      ],
      "execution_count": 7,
      "outputs": [
        {
          "output_type": "stream",
          "text": [
            "Data does not contain any null value\n"
          ],
          "name": "stdout"
        }
      ]
    },
    {
      "cell_type": "code",
      "metadata": {
        "id": "fMmhiHLCcy30"
      },
      "source": [
        "# Splitting the data into train and test set\r\n",
        "X=data.iloc[:,0:23]\r\n",
        "y=data.iloc[:,23]\r\n",
        "X_train,X_test,y_train,y_test=train_test_split(X,y,test_size=0.2,random_state=0) "
      ],
      "execution_count": 8,
      "outputs": []
    },
    {
      "cell_type": "code",
      "metadata": {
        "id": "hO0angm5ddpo"
      },
      "source": [
        "# Mean Normalizing the data \r\n",
        "st_x= StandardScaler()    \r\n",
        "X_train= st_x.fit_transform(X_train)    \r\n",
        "X_test= st_x.transform(X_test)\r\n",
        "y_test=np.array(y_test)\r\n",
        "y_train=np.array(y_train)"
      ],
      "execution_count": 9,
      "outputs": []
    },
    {
      "cell_type": "markdown",
      "metadata": {
        "id": "Vh25J5yosGM1"
      },
      "source": [
        "**METHOD 1 - Using Sci-kit Learn Library**"
      ]
    },
    {
      "cell_type": "code",
      "metadata": {
        "id": "PyMDr1E8gPA0",
        "colab": {
          "base_uri": "https://localhost:8080/"
        },
        "outputId": "d7e5d582-b01b-43f7-da4c-05f1bedde95b"
      },
      "source": [
        "# Creating and fitting the classifier\r\n",
        "cf = KNeighborsClassifier(n_neighbors=3)\r\n",
        "cf.fit(X_train,y_train)"
      ],
      "execution_count": 10,
      "outputs": [
        {
          "output_type": "execute_result",
          "data": {
            "text/plain": [
              "KNeighborsClassifier(algorithm='auto', leaf_size=30, metric='minkowski',\n",
              "                     metric_params=None, n_jobs=None, n_neighbors=3, p=2,\n",
              "                     weights='uniform')"
            ]
          },
          "metadata": {
            "tags": []
          },
          "execution_count": 10
        }
      ]
    },
    {
      "cell_type": "code",
      "metadata": {
        "colab": {
          "base_uri": "https://localhost:8080/"
        },
        "id": "wZOb3-zUrTtZ",
        "outputId": "769fc35d-138a-47f5-9ee2-a746d1ced7d8"
      },
      "source": [
        "# Testing the accuracy of the fitted model\r\n",
        "y_pred=cf.predict(X_test)\r\n",
        "accuracy_score(y_test,y_pred)"
      ],
      "execution_count": 11,
      "outputs": [
        {
          "output_type": "execute_result",
          "data": {
            "text/plain": [
              "0.9587955625990491"
            ]
          },
          "metadata": {
            "tags": []
          },
          "execution_count": 11
        }
      ]
    },
    {
      "cell_type": "code",
      "metadata": {
        "colab": {
          "base_uri": "https://localhost:8080/",
          "height": 295
        },
        "id": "tnYNH68BsY5x",
        "outputId": "d3bc4be4-b861-461a-c6cc-720529350cbc"
      },
      "source": [
        "# Plotting the graph of accuracy with variation in k\r\n",
        "accuracy_array = []\r\n",
        "for k in range(1, 11):\r\n",
        "    knn = KNeighborsClassifier(n_neighbors = k)\r\n",
        "    knn.fit(X_train, y_train)\r\n",
        "    y_prediction = knn.predict(X_test)\r\n",
        "    accuracy = accuracy_score(y_test, y_prediction)\r\n",
        "    accuracy_array.append(accuracy)\r\n",
        "plt.grid(color='grey', linestyle=':', linewidth=1)\r\n",
        "plt.plot(range(1, 11), accuracy_array, color='green', marker='o')\r\n",
        "plt.xlabel('K (Number of neighbours')\r\n",
        "plt.ylabel('Accuracy')\r\n",
        "plt.title(\"Testing the accuracy for different values of K using Scikit-Learns's model\")\r\n",
        "plt.show()"
      ],
      "execution_count": 12,
      "outputs": [
        {
          "output_type": "display_data",
          "data": {
            "image/png": "[encoded data removed]",
            "text/plain": [
              "<Figure size 432x288 with 1 Axes>"
            ]
          },
          "metadata": {
            "tags": [],
            "needs_background": "light"
          }
        }
      ]
    },
    {
      "cell_type": "code",
      "metadata": {
        "id": "NKAkxXQTtH3R",
        "colab": {
          "base_uri": "https://localhost:8080/"
        },
        "outputId": "f473d521-7ead-4b5b-b194-6956530b35c2"
      },
      "source": [
        "print(\"The confusion matrix for Scikit-Learn's model is \")\r\n",
        "print(confusion_matrix(y_test,y_prediction))"
      ],
      "execution_count": 13,
      "outputs": [
        {
          "output_type": "stream",
          "text": [
            "The confusion matrix for Scikit-Learn's model is \n",
            "[[577   5]\n",
            " [ 29  20]]\n"
          ],
          "name": "stdout"
        }
      ]
    },
    {
      "cell_type": "markdown",
      "metadata": {
        "id": "4PEs7Lp8t6HV"
      },
      "source": [
        "**METHOD 2 - Writing the algorithm manually**"
      ]
    },
    {
      "cell_type": "code",
      "metadata": {
        "id": "dWKLZERtt0XL"
      },
      "source": [
        "# Writing the eucledian distance function\r\n",
        "def euclideanDistance(data1, data2):\r\n",
        "    distance = 0\r\n",
        "    for x in range(len(data1)):\r\n",
        "        distance += np.square(data1[x] - data2[x])\r\n",
        "    return np.sqrt(distance)"
      ],
      "execution_count": 14,
      "outputs": []
    },
    {
      "cell_type": "code",
      "metadata": {
        "id": "cBYw-X9rxbyF"
      },
      "source": [
        "# Defining the get_neighbours function\r\n",
        "def get_neighbours(train, test_row, num_neighbours):\r\n",
        "\tdistances=[]\r\n",
        "\tfor x in range(len(train)):\r\n",
        "\t\tdist = euclideanDistance(test_row, train[x])\r\n",
        "\t\tdistances.append((x, dist))\r\n",
        "\tdistances.sort(key=lambda tup: tup[1])\r\n",
        "\tneighbours=[]\r\n",
        "\tfor i in range(num_neighbours):\r\n",
        "\t\tneighbours.append(distances[i][0])\r\n",
        "\treturn neighbours"
      ],
      "execution_count": 15,
      "outputs": []
    },
    {
      "cell_type": "code",
      "metadata": {
        "id": "3hyDb5IJ256O"
      },
      "source": [
        "# Defining the predic_classification function\r\n",
        "def predict_classification(train,y_train,test_row,num_neighbours):\r\n",
        "\tneighbours = get_neighbours(train, test_row, num_neighbours)\r\n",
        "\toutput_values = [y_train[x] for x in neighbours]\r\n",
        "\tprediction = max(set(output_values), key=output_values.count)\r\n",
        "\treturn prediction"
      ],
      "execution_count": 16,
      "outputs": []
    },
    {
      "cell_type": "code",
      "metadata": {
        "colab": {
          "base_uri": "https://localhost:8080/"
        },
        "id": "s9MDuLfc2-79",
        "outputId": "da3f5596-9c0c-4ddc-f5cd-22dfbc27f93b"
      },
      "source": [
        "# Predicting the values for k=3\r\n",
        "y_pred_manual=[]\r\n",
        "ctr=1\r\n",
        "for test in X_test:\r\n",
        "  y_pred_manual.append(predict_classification(X_train,y_train,test,3))\r\n",
        "y_pred_manual=np.array(y_pred_manual)\r\n",
        "accuracy_score(y_test,y_pred_manual)"
      ],
      "execution_count": 17,
      "outputs": [
        {
          "output_type": "execute_result",
          "data": {
            "text/plain": [
              "0.9587955625990491"
            ]
          },
          "metadata": {
            "tags": []
          },
          "execution_count": 17
        }
      ]
    },
    {
      "cell_type": "code",
      "metadata": {
        "colab": {
          "base_uri": "https://localhost:8080/",
          "height": 295
        },
        "id": "xSRrAIIB80NF",
        "outputId": "ef881f46-d025-42f0-90ca-1e5b49b48068"
      },
      "source": [
        "# Plotting the graph of accuracy with variation in k\r\n",
        "accuracy_array_manual = []\r\n",
        "for k in range(1, 11):\r\n",
        "  y_prediction_manual=[]\r\n",
        "  ctr=1\r\n",
        "  for test in X_test:\r\n",
        "    y_prediction_manual.append(predict_classification(X_train,y_train,test,k))\r\n",
        "  y_prediction_manual=np.array(y_pred_manual)\r\n",
        "  accuracy = accuracy_score(y_test, y_prediction_manual)\r\n",
        "  accuracy_array_manual.append(accuracy)\r\n",
        "plt.grid(color='grey', linestyle=':', linewidth=1)\r\n",
        "plt.plot(range(1, 11), accuracy_array, color='red', marker='o')\r\n",
        "plt.xlabel('K (Number of neighbours')\r\n",
        "plt.ylabel('Accuracy')\r\n",
        "plt.title('Testing the accuracy for different values of K using our won model')\r\n",
        "plt.show()"
      ],
      "execution_count": 18,
      "outputs": [
        {
          "output_type": "display_data",
          "data": {
            "image/png": "[encoded data removed]",
            "text/plain": [
              "<Figure size 432x288 with 1 Axes>"
            ]
          },
          "metadata": {
            "tags": [],
            "needs_background": "light"
          }
        }
      ]
    },
    {
      "cell_type": "code",
      "metadata": {
        "id": "Gk3u8tby_r3S"
      },
      "source": [
        "print(\"The confusion matrix for our manually written algo is \")\r\n",
        "print(confusion_matrix(y_test,y_pred_manual))"
      ],
      "execution_count": null,
      "outputs": []
    },
    {
      "cell_type": "markdown",
      "metadata": {
        "id": "sjIuGVFXFmuf"
      },
      "source": [
        "As we can see that both the graphs are approximately same, hence our manually written algorithm is working well"
      ]
    }
  ]
}