{
  "nbformat": 4,
  "nbformat_minor": 0,
  "metadata": {
    "colab": {
      "name": "House_abhay.ipynb",
      "provenance": []
    },
    "kernelspec": {
      "name": "python3",
      "display_name": "Python 3"
    }
  },
  "cells": [
    {
      "cell_type": "code",
      "metadata": {
        "id": "CTSLD8a3Cc36"
      },
      "source": [
        "# Assignment 3\r\n",
        "# Multiple Linear Regression on house dataset\r\n",
        "# Abhay Charan Patro \r\n",
        "# BTECH/10021/18\r\n",
        "# CSE B"
      ],
      "execution_count": 1,
      "outputs": []
    },
    {
      "cell_type": "code",
      "metadata": {
        "id": "b84mA-GwUTcb"
      },
      "source": [
        "# Importing the required modules\r\n",
        "import pandas as pd\r\n",
        "import numpy as np\r\n",
        "import matplotlib.pyplot as plt\r\n",
        "from sklearn.model_selection import train_test_split  \r\n",
        "from sklearn.preprocessing import StandardScaler    \r\n",
        "from sklearn import linear_model\r\n",
        "from sklearn import metrics"
      ],
      "execution_count": 2,
      "outputs": []
    },
    {
      "cell_type": "code",
      "metadata": {
        "id": "jsnuLnzmUqar"
      },
      "source": [
        "# Reading the data\r\n",
        "data=pd.read_csv(\"House.csv\")\r\n",
        "data=data.drop(['Unnamed: 0'],axis=1)"
      ],
      "execution_count": 3,
      "outputs": []
    },
    {
      "cell_type": "code",
      "metadata": {
        "colab": {
          "base_uri": "https://localhost:8080/",
          "height": 284
        },
        "id": "QandnK56U972",
        "outputId": "93dc8d28-e1ed-40b0-8f02-636da68ed170"
      },
      "source": [
        "# Describing the data\r\n",
        "data.describe()"
      ],
      "execution_count": 4,
      "outputs": [
        {
          "output_type": "execute_result",
          "data": {
            "text/html": [
              "<div>\n",
              "<style scoped>\n",
              "    .dataframe tbody tr th:only-of-type {\n",
              "        vertical-align: middle;\n",
              "    }\n",
              "\n",
              "    .dataframe tbody tr th {\n",
              "        vertical-align: top;\n",
              "    }\n",
              "\n",
              "    .dataframe thead th {\n",
              "        text-align: right;\n",
              "    }\n",
              "</style>\n",
              "<table border=\"1\" class=\"dataframe\">\n",
              "  <thead>\n",
              "    <tr style=\"text-align: right;\">\n",
              "      <th></th>\n",
              "      <th>size(in square feet)</th>\n",
              "      <th>number of bedrooms</th>\n",
              "      <th>price</th>\n",
              "    </tr>\n",
              "  </thead>\n",
              "  <tbody>\n",
              "    <tr>\n",
              "      <th>count</th>\n",
              "      <td>47.000000</td>\n",
              "      <td>47.000000</td>\n",
              "      <td>47.000000</td>\n",
              "    </tr>\n",
              "    <tr>\n",
              "      <th>mean</th>\n",
              "      <td>2000.680851</td>\n",
              "      <td>3.170213</td>\n",
              "      <td>340412.659574</td>\n",
              "    </tr>\n",
              "    <tr>\n",
              "      <th>std</th>\n",
              "      <td>794.702354</td>\n",
              "      <td>0.760982</td>\n",
              "      <td>125039.899586</td>\n",
              "    </tr>\n",
              "    <tr>\n",
              "      <th>min</th>\n",
              "      <td>852.000000</td>\n",
              "      <td>1.000000</td>\n",
              "      <td>169900.000000</td>\n",
              "    </tr>\n",
              "    <tr>\n",
              "      <th>25%</th>\n",
              "      <td>1432.000000</td>\n",
              "      <td>3.000000</td>\n",
              "      <td>249900.000000</td>\n",
              "    </tr>\n",
              "    <tr>\n",
              "      <th>50%</th>\n",
              "      <td>1888.000000</td>\n",
              "      <td>3.000000</td>\n",
              "      <td>299900.000000</td>\n",
              "    </tr>\n",
              "    <tr>\n",
              "      <th>75%</th>\n",
              "      <td>2269.000000</td>\n",
              "      <td>4.000000</td>\n",
              "      <td>384450.000000</td>\n",
              "    </tr>\n",
              "    <tr>\n",
              "      <th>max</th>\n",
              "      <td>4478.000000</td>\n",
              "      <td>5.000000</td>\n",
              "      <td>699900.000000</td>\n",
              "    </tr>\n",
              "  </tbody>\n",
              "</table>\n",
              "</div>"
            ],
            "text/plain": [
              "       size(in square feet)  number of bedrooms          price\n",
              "count             47.000000           47.000000      47.000000\n",
              "mean            2000.680851            3.170213  340412.659574\n",
              "std              794.702354            0.760982  125039.899586\n",
              "min              852.000000            1.000000  169900.000000\n",
              "25%             1432.000000            3.000000  249900.000000\n",
              "50%             1888.000000            3.000000  299900.000000\n",
              "75%             2269.000000            4.000000  384450.000000\n",
              "max             4478.000000            5.000000  699900.000000"
            ]
          },
          "metadata": {
            "tags": []
          },
          "execution_count": 4
        }
      ]
    },
    {
      "cell_type": "code",
      "metadata": {
        "colab": {
          "base_uri": "https://localhost:8080/",
          "height": 195
        },
        "id": "dk7_bBaTU_rq",
        "outputId": "9c5599fe-2eca-4ccc-fb34-33849a7c80c9"
      },
      "source": [
        "# First few entries of the data\r\n",
        "data.head()"
      ],
      "execution_count": 5,
      "outputs": [
        {
          "output_type": "execute_result",
          "data": {
            "text/html": [
              "<div>\n",
              "<style scoped>\n",
              "    .dataframe tbody tr th:only-of-type {\n",
              "        vertical-align: middle;\n",
              "    }\n",
              "\n",
              "    .dataframe tbody tr th {\n",
              "        vertical-align: top;\n",
              "    }\n",
              "\n",
              "    .dataframe thead th {\n",
              "        text-align: right;\n",
              "    }\n",
              "</style>\n",
              "<table border=\"1\" class=\"dataframe\">\n",
              "  <thead>\n",
              "    <tr style=\"text-align: right;\">\n",
              "      <th></th>\n",
              "      <th>size(in square feet)</th>\n",
              "      <th>number of bedrooms</th>\n",
              "      <th>price</th>\n",
              "    </tr>\n",
              "  </thead>\n",
              "  <tbody>\n",
              "    <tr>\n",
              "      <th>0</th>\n",
              "      <td>2104</td>\n",
              "      <td>3</td>\n",
              "      <td>399900</td>\n",
              "    </tr>\n",
              "    <tr>\n",
              "      <th>1</th>\n",
              "      <td>1600</td>\n",
              "      <td>3</td>\n",
              "      <td>329900</td>\n",
              "    </tr>\n",
              "    <tr>\n",
              "      <th>2</th>\n",
              "      <td>2400</td>\n",
              "      <td>3</td>\n",
              "      <td>369000</td>\n",
              "    </tr>\n",
              "    <tr>\n",
              "      <th>3</th>\n",
              "      <td>1416</td>\n",
              "      <td>2</td>\n",
              "      <td>232000</td>\n",
              "    </tr>\n",
              "    <tr>\n",
              "      <th>4</th>\n",
              "      <td>3000</td>\n",
              "      <td>4</td>\n",
              "      <td>539900</td>\n",
              "    </tr>\n",
              "  </tbody>\n",
              "</table>\n",
              "</div>"
            ],
            "text/plain": [
              "   size(in square feet)  number of bedrooms   price\n",
              "0                  2104                   3  399900\n",
              "1                  1600                   3  329900\n",
              "2                  2400                   3  369000\n",
              "3                  1416                   2  232000\n",
              "4                  3000                   4  539900"
            ]
          },
          "metadata": {
            "tags": []
          },
          "execution_count": 5
        }
      ]
    },
    {
      "cell_type": "code",
      "metadata": {
        "id": "aQM2UXFyVDFo",
        "colab": {
          "base_uri": "https://localhost:8080/"
        },
        "outputId": "17eda774-788c-40b6-ab47-246868db0b68"
      },
      "source": [
        "# Checking for empty data fields\r\n",
        "flag=data.isnull().values.any()\r\n",
        "if(flag):\r\n",
        "  print(\"The data set contains empty field\")\r\n",
        "else:\r\n",
        "  print(\"The data set does'nt contain any empty field\")"
      ],
      "execution_count": 6,
      "outputs": [
        {
          "output_type": "stream",
          "text": [
            "The data set does'nt contain any empty field\n"
          ],
          "name": "stdout"
        }
      ]
    },
    {
      "cell_type": "code",
      "metadata": {
        "colab": {
          "base_uri": "https://localhost:8080/",
          "height": 295
        },
        "id": "XqIOWhiehB8K",
        "outputId": "64ac96a5-9f83-4b0d-ae25-45b8f7521379"
      },
      "source": [
        "# Plotting the data\r\n",
        "plt.scatter(data['size(in square feet)'],data['price'])\r\n",
        "plt.ylabel(\"price\")\r\n",
        "plt.xlabel(\"size(in square feet)\")\r\n",
        "plt.title(\"Variation of price of house with size of size\")\r\n",
        "plt.show()"
      ],
      "execution_count": 7,
      "outputs": [
        {
          "output_type": "display_data",
          "data": {
            "image/png": "[encoded data removed]",
            "text/plain": [
              "<Figure size 432x288 with 1 Axes>"
            ]
          },
          "metadata": {
            "tags": [],
            "needs_background": "light"
          }
        }
      ]
    },
    {
      "cell_type": "code",
      "metadata": {
        "colab": {
          "base_uri": "https://localhost:8080/",
          "height": 295
        },
        "id": "KTeIWydQhR_9",
        "outputId": "36b57b69-956d-4284-c670-dd395e0a2d72"
      },
      "source": [
        "# Plotting the data\r\n",
        "plt.scatter(data['number of bedrooms'],data['price'])\r\n",
        "plt.ylabel(\"price\")\r\n",
        "plt.xlabel(\"number of bedrooms\")\r\n",
        "plt.title(\"Variation of price of house with number of bedrooms\")\r\n",
        "plt.show()"
      ],
      "execution_count": 8,
      "outputs": [
        {
          "output_type": "display_data",
          "data": {
            "image/png": "[encoded data removed]",
            "text/plain": [
              "<Figure size 432x288 with 1 Axes>"
            ]
          },
          "metadata": {
            "tags": [],
            "needs_background": "light"
          }
        }
      ]
    },
    {
      "cell_type": "code",
      "metadata": {
        "id": "yXMAp3krhdMh"
      },
      "source": [
        "# Splitting the data into train and test set\r\n",
        "X=data.iloc[:,0:2]\r\n",
        "y=data.iloc[:,2]\r\n",
        "X_train,X_test,y_train,y_test=train_test_split(X,y,test_size=0.2,random_state=0) "
      ],
      "execution_count": 9,
      "outputs": []
    },
    {
      "cell_type": "code",
      "metadata": {
        "id": "rYvhz8RvirPw"
      },
      "source": [
        "# Mean Normalizing the data \r\n",
        "st_x= StandardScaler()    \r\n",
        "X_train= st_x.fit_transform(X_train)    \r\n",
        "X_test= st_x.transform(X_test)\r\n",
        "y_test=np.array(y_test)\r\n",
        "y_train=np.array(y_train)\r\n",
        "y_test=y_test.reshape(y_test.shape[0],1)\r\n",
        "y_train=y_train.reshape(y_train.shape[0],1);"
      ],
      "execution_count": 10,
      "outputs": []
    },
    {
      "cell_type": "markdown",
      "metadata": {
        "id": "Y6OcC9fzjL_5"
      },
      "source": [
        "**METHOD 1 - Using Sci-kit Learn Library**"
      ]
    },
    {
      "cell_type": "code",
      "metadata": {
        "colab": {
          "base_uri": "https://localhost:8080/"
        },
        "id": "TEhHZhk5jeSM",
        "outputId": "bd555cf1-9d3e-4df3-fc07-d7b870835fc7"
      },
      "source": [
        "# Fitting the model to X_train and y_train\r\n",
        "cf = linear_model.LinearRegression()\r\n",
        "cf.fit(X_train,y_train)"
      ],
      "execution_count": 11,
      "outputs": [
        {
          "output_type": "execute_result",
          "data": {
            "text/plain": [
              "LinearRegression(copy_X=True, fit_intercept=True, n_jobs=None, normalize=False)"
            ]
          },
          "metadata": {
            "tags": []
          },
          "execution_count": 11
        }
      ]
    },
    {
      "cell_type": "code",
      "metadata": {
        "id": "AZ2VMtyDjnnb"
      },
      "source": [
        "# Making Predictions on the test set\r\n",
        "y_pred=cf.predict(X_test)"
      ],
      "execution_count": 12,
      "outputs": []
    },
    {
      "cell_type": "code",
      "metadata": {
        "colab": {
          "base_uri": "https://localhost:8080/"
        },
        "id": "vCLPX_tBj9w6",
        "outputId": "586bd612-a186-4884-cbb6-aaae59554049"
      },
      "source": [
        "# Printing different errors \r\n",
        "print('Mean Absolute Error :',\" \", metrics.mean_absolute_error(y_test,y_pred))\r\n",
        "print('Mean Squared Error :',\" \", metrics.mean_squared_error(y_test,y_pred))\r\n",
        "print('Root Mean Squared Error :',\" \", np.sqrt(metrics.mean_squared_error(y_test,y_pred)))"
      ],
      "execution_count": 13,
      "outputs": [
        {
          "output_type": "stream",
          "text": [
            "Mean Absolute Error :   68915.53254571013\n",
            "Mean Squared Error :   5782243058.833695\n",
            "Root Mean Squared Error :   76041.06166298375\n"
          ],
          "name": "stdout"
        }
      ]
    },
    {
      "cell_type": "code",
      "metadata": {
        "id": "PWVp9hPL6lHF",
        "colab": {
          "base_uri": "https://localhost:8080/"
        },
        "outputId": "d2373834-041e-4274-8d0d-60c615e46741"
      },
      "source": [
        "# Printing the R-squared metric\r\n",
        "r2_sklearn=metrics.r2_score(y_test,y_pred)\r\n",
        "print(\"The R-squared metric using sk-learn is \",r2_sklearn)"
      ],
      "execution_count": 14,
      "outputs": [
        {
          "output_type": "stream",
          "text": [
            "The R-squared metric using sk-learn is  0.6745515249932021\n"
          ],
          "name": "stdout"
        }
      ]
    },
    {
      "cell_type": "markdown",
      "metadata": {
        "id": "bUxD9SfflqV5"
      },
      "source": [
        "**METHOD 2 - Writting the algorithm manually**"
      ]
    },
    {
      "cell_type": "code",
      "metadata": {
        "id": "7fDHuXUFlrC2"
      },
      "source": [
        "# Cost function\r\n",
        "def computecost(X,y,params):\r\n",
        "  H=np.matmul(X,params)\r\n",
        "  H=H-y\r\n",
        "  H=np.matmul(np.transpose(H),H)\r\n",
        "  J=H/(2*X.shape[0])\r\n",
        "  return J"
      ],
      "execution_count": 15,
      "outputs": []
    },
    {
      "cell_type": "code",
      "metadata": {
        "id": "njl4cPaql_0q"
      },
      "source": [
        "# Defining the gradient descent function\r\n",
        "def Gradientdescent(alpha,iteration,X,y):\r\n",
        "  # To return parameters m and b\r\n",
        "  prev_error=0\r\n",
        "  size=X.shape[0]\r\n",
        "  params=np.random.rand(X.shape[1]+1,1)\r\n",
        "  a=np.ones(size)\r\n",
        "  a=a.reshape(size,1)\r\n",
        "  X=np.concatenate((a,X),axis=1)\r\n",
        "  Jhist=computecost(X,y,params)\r\n",
        "  iter=[]\r\n",
        "  cost=[]\r\n",
        "  for i in range(0,iteration):\r\n",
        "    cost.append(Jhist[0])\r\n",
        "    iter.append(i+1)\r\n",
        "    gama=np.matmul(X,params) \r\n",
        "    gama=gama-y  \r\n",
        "    gama=(np.matmul(np.transpose(gama),X))/size\r\n",
        "    params=params-alpha*np.transpose(gama)\r\n",
        "    Jnew=computecost(X,y,params)\r\n",
        "    Jhist=Jnew\r\n",
        "  cost=np.array(cost)\r\n",
        "  iter=np.array(iter)\r\n",
        "  return cost,iter,params"
      ],
      "execution_count": 16,
      "outputs": []
    },
    {
      "cell_type": "code",
      "metadata": {
        "id": "5QumtgLe8BjE"
      },
      "source": [
        "# Defining the prediction function\r\n",
        "def predictor(params,X):\r\n",
        "  size=X.shape[0]\r\n",
        "  a=np.ones(size)\r\n",
        "  a=a.reshape(size,1)\r\n",
        "  X=np.concatenate((a,X),axis=1)\r\n",
        "  return np.matmul(X,params)"
      ],
      "execution_count": 17,
      "outputs": []
    },
    {
      "cell_type": "code",
      "metadata": {
        "id": "XlKlZ_t8naVu"
      },
      "source": [
        "# Running Gradient Descent\r\n",
        "cost,iter,params=Gradientdescent(0.03,4000,X_train,y_train)"
      ],
      "execution_count": 18,
      "outputs": []
    },
    {
      "cell_type": "code",
      "metadata": {
        "colab": {
          "base_uri": "https://localhost:8080/",
          "height": 295
        },
        "id": "QLyCRykOoc5T",
        "outputId": "e00461ff-ec63-4ea7-a4c4-18ad164b8eb3"
      },
      "source": [
        "# Plotting the variation of cost with number of iterations of gradient descent\r\n",
        "plt.plot(iter,cost)\r\n",
        "plt.title(\"Variation of cost with number of iterations of gradient descent\")\r\n",
        "plt.xlabel(\"Iterations\")\r\n",
        "plt.ylabel('Cost')\r\n",
        "plt.show()"
      ],
      "execution_count": 19,
      "outputs": [
        {
          "output_type": "display_data",
          "data": {
            "image/png": "[encoded data removed]",
            "text/plain": [
              "<Figure size 432x288 with 1 Axes>"
            ]
          },
          "metadata": {
            "tags": [],
            "needs_background": "light"
          }
        }
      ]
    },
    {
      "cell_type": "code",
      "metadata": {
        "id": "wq2NhN5E90Jc"
      },
      "source": [
        "# Predicting the values of the test set\r\n",
        "y_pred_manual=predictor(params,X_test)"
      ],
      "execution_count": 20,
      "outputs": []
    },
    {
      "cell_type": "code",
      "metadata": {
        "colab": {
          "base_uri": "https://localhost:8080/"
        },
        "id": "PyMokqVN_hHi",
        "outputId": "c5e19e62-7f3e-4aa2-afa4-d5f0a30042e3"
      },
      "source": [
        "# Printing different errors \r\n",
        "print('Mean Absolute Error :',\" \", metrics.mean_absolute_error(y_test,y_pred_manual))\r\n",
        "print('Mean Squared Error :',\" \", metrics.mean_squared_error(y_test,y_pred_manual))\r\n",
        "print('Root Mean Squared Error :',\" \", np.sqrt(metrics.mean_squared_error(y_test,y_pred_manual)))"
      ],
      "execution_count": 21,
      "outputs": [
        {
          "output_type": "stream",
          "text": [
            "Mean Absolute Error :   68915.53254571042\n",
            "Mean Squared Error :   5782243058.83374\n",
            "Root Mean Squared Error :   76041.06166298404\n"
          ],
          "name": "stdout"
        }
      ]
    },
    {
      "cell_type": "code",
      "metadata": {
        "colab": {
          "base_uri": "https://localhost:8080/"
        },
        "id": "emps9H6C96ya",
        "outputId": "cb1942ea-621b-4b8b-ff47-79979a513566"
      },
      "source": [
        "# Finding the r2_metric for our manually written algo\r\n",
        "r2_manual=metrics.r2_score(y_test,y_pred_manual)\r\n",
        "print(\"The R-squared metric using our own manual algo is \",r2_manual)"
      ],
      "execution_count": 22,
      "outputs": [
        {
          "output_type": "stream",
          "text": [
            "The R-squared metric using our own manual algo is  0.6745515249931996\n"
          ],
          "name": "stdout"
        }
      ]
    },
    {
      "cell_type": "markdown",
      "metadata": {
        "id": "kUKGXM-a_IPS"
      },
      "source": [
        "**Comparing Scikit-Learn's model with our model**\r\n",
        "\r\n"
      ]
    },
    {
      "cell_type": "code",
      "metadata": {
        "colab": {
          "base_uri": "https://localhost:8080/"
        },
        "id": "iOQYtIOdo0K3",
        "outputId": "63d2a3f0-26f3-453c-e1d5-a6f141577eb6"
      },
      "source": [
        "print(\"The parameters learnt using our manual algo are \",params[0][0],\", \",params[1][0],\", \",params[2][0])\r\n",
        "print(\"The parameters learnt using sklearn library are \",cf.intercept_[0],\", \",cf.coef_[0][0],\", \",cf.coef_[0][1])"
      ],
      "execution_count": 23,
      "outputs": [
        {
          "output_type": "stream",
          "text": [
            "The parameters learnt using our manual algo are  330835.0810810802 ,  102924.08617129836 ,  -1103.7568649440339\n",
            "The parameters learnt using sklearn library are  330835.08108108107 ,  102924.08617129867 ,  -1103.756864944225\n"
          ],
          "name": "stdout"
        }
      ]
    },
    {
      "cell_type": "code",
      "metadata": {
        "colab": {
          "base_uri": "https://localhost:8080/"
        },
        "id": "DTBvf0_T7-9V",
        "outputId": "24c8461f-bb08-4bff-bc79-fa8f80c53ffe"
      },
      "source": [
        "print(\"The R-squared metric using our own manual algo is \",r2_manual)\r\n",
        "print(\"The R-squared metric using sk-learn is \",r2_sklearn)"
      ],
      "execution_count": 24,
      "outputs": [
        {
          "output_type": "stream",
          "text": [
            "The R-squared metric using our own manual algo is  0.6745515249931996\n",
            "The R-squared metric using sk-learn is  0.6745515249932021\n"
          ],
          "name": "stdout"
        }
      ]
    },
    {
      "cell_type": "markdown",
      "metadata": {
        "id": "6m78Usz_A9h7"
      },
      "source": [
        "Hence we can see that our model is giving almost same results to that of Scikit-Learn's Model"
      ]
    }
  ]
}