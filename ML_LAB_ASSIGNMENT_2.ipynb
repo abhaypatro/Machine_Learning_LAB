{
  "nbformat": 4,
  "nbformat_minor": 0,
  "metadata": {
    "colab": {
      "name": "ML_LAB_ASSIGNMENT-2_BTECH/10021/18",
      "provenance": [],
      "collapsed_sections": []
    },
    "kernelspec": {
      "name": "python3",
      "display_name": "Python 3"
    }
  },
  "cells": [
    {
      "cell_type": "code",
      "metadata": {
        "id": "cGZYFqfxJUD2"
      },
      "source": [
        "# Assignment 2\r\n",
        "# Abhay Charan Patro\r\n",
        "# BTECH/10021/18\r\n",
        "# CSE B"
      ],
      "execution_count": 2,
      "outputs": []
    },
    {
      "cell_type": "code",
      "metadata": {
        "id": "SUjsokdrvf-e"
      },
      "source": [
        "import numpy as np\r\n",
        "import pandas as pd\r\n",
        "import matplotlib.pyplot as plt\r\n",
        "np.set_printoptions(suppress=True)"
      ],
      "execution_count": 3,
      "outputs": []
    },
    {
      "cell_type": "code",
      "metadata": {
        "id": "u-og32o1wZfm"
      },
      "source": [
        "#Reading the csv file\r\n",
        "data=pd.read_csv('Salary_Data.csv')"
      ],
      "execution_count": 4,
      "outputs": []
    },
    {
      "cell_type": "code",
      "metadata": {
        "colab": {
          "base_uri": "https://localhost:8080/",
          "height": 286
        },
        "id": "mwWXXdM7we7e",
        "outputId": "6a1561db-5fbe-4018-a279-bc7dd19093ca"
      },
      "source": [
        "# Describing the data\r\n",
        "data.describe()"
      ],
      "execution_count": 5,
      "outputs": [
        {
          "output_type": "execute_result",
          "data": {
            "text/html": [
              "<div>\n",
              "<style scoped>\n",
              "    .dataframe tbody tr th:only-of-type {\n",
              "        vertical-align: middle;\n",
              "    }\n",
              "\n",
              "    .dataframe tbody tr th {\n",
              "        vertical-align: top;\n",
              "    }\n",
              "\n",
              "    .dataframe thead th {\n",
              "        text-align: right;\n",
              "    }\n",
              "</style>\n",
              "<table border=\"1\" class=\"dataframe\">\n",
              "  <thead>\n",
              "    <tr style=\"text-align: right;\">\n",
              "      <th></th>\n",
              "      <th>YearsExperience</th>\n",
              "      <th>Salary</th>\n",
              "    </tr>\n",
              "  </thead>\n",
              "  <tbody>\n",
              "    <tr>\n",
              "      <th>count</th>\n",
              "      <td>30.000000</td>\n",
              "      <td>30.000000</td>\n",
              "    </tr>\n",
              "    <tr>\n",
              "      <th>mean</th>\n",
              "      <td>5.313333</td>\n",
              "      <td>76003.000000</td>\n",
              "    </tr>\n",
              "    <tr>\n",
              "      <th>std</th>\n",
              "      <td>2.837888</td>\n",
              "      <td>27414.429785</td>\n",
              "    </tr>\n",
              "    <tr>\n",
              "      <th>min</th>\n",
              "      <td>1.100000</td>\n",
              "      <td>37731.000000</td>\n",
              "    </tr>\n",
              "    <tr>\n",
              "      <th>25%</th>\n",
              "      <td>3.200000</td>\n",
              "      <td>56720.750000</td>\n",
              "    </tr>\n",
              "    <tr>\n",
              "      <th>50%</th>\n",
              "      <td>4.700000</td>\n",
              "      <td>65237.000000</td>\n",
              "    </tr>\n",
              "    <tr>\n",
              "      <th>75%</th>\n",
              "      <td>7.700000</td>\n",
              "      <td>100544.750000</td>\n",
              "    </tr>\n",
              "    <tr>\n",
              "      <th>max</th>\n",
              "      <td>10.500000</td>\n",
              "      <td>122391.000000</td>\n",
              "    </tr>\n",
              "  </tbody>\n",
              "</table>\n",
              "</div>"
            ],
            "text/plain": [
              "       YearsExperience         Salary\n",
              "count        30.000000      30.000000\n",
              "mean          5.313333   76003.000000\n",
              "std           2.837888   27414.429785\n",
              "min           1.100000   37731.000000\n",
              "25%           3.200000   56720.750000\n",
              "50%           4.700000   65237.000000\n",
              "75%           7.700000  100544.750000\n",
              "max          10.500000  122391.000000"
            ]
          },
          "metadata": {
            "tags": []
          },
          "execution_count": 5
        }
      ]
    },
    {
      "cell_type": "code",
      "metadata": {
        "colab": {
          "base_uri": "https://localhost:8080/",
          "height": 196
        },
        "id": "5sOEspVxwjaQ",
        "outputId": "3bfadc17-b9ed-4ab6-a59f-9c9bb0776fd7"
      },
      "source": [
        "# Showing the top contents of the data\r\n",
        "data.head()"
      ],
      "execution_count": 6,
      "outputs": [
        {
          "output_type": "execute_result",
          "data": {
            "text/html": [
              "<div>\n",
              "<style scoped>\n",
              "    .dataframe tbody tr th:only-of-type {\n",
              "        vertical-align: middle;\n",
              "    }\n",
              "\n",
              "    .dataframe tbody tr th {\n",
              "        vertical-align: top;\n",
              "    }\n",
              "\n",
              "    .dataframe thead th {\n",
              "        text-align: right;\n",
              "    }\n",
              "</style>\n",
              "<table border=\"1\" class=\"dataframe\">\n",
              "  <thead>\n",
              "    <tr style=\"text-align: right;\">\n",
              "      <th></th>\n",
              "      <th>YearsExperience</th>\n",
              "      <th>Salary</th>\n",
              "    </tr>\n",
              "  </thead>\n",
              "  <tbody>\n",
              "    <tr>\n",
              "      <th>0</th>\n",
              "      <td>1.1</td>\n",
              "      <td>39343.0</td>\n",
              "    </tr>\n",
              "    <tr>\n",
              "      <th>1</th>\n",
              "      <td>1.3</td>\n",
              "      <td>46205.0</td>\n",
              "    </tr>\n",
              "    <tr>\n",
              "      <th>2</th>\n",
              "      <td>1.5</td>\n",
              "      <td>37731.0</td>\n",
              "    </tr>\n",
              "    <tr>\n",
              "      <th>3</th>\n",
              "      <td>2.0</td>\n",
              "      <td>43525.0</td>\n",
              "    </tr>\n",
              "    <tr>\n",
              "      <th>4</th>\n",
              "      <td>2.2</td>\n",
              "      <td>39891.0</td>\n",
              "    </tr>\n",
              "  </tbody>\n",
              "</table>\n",
              "</div>"
            ],
            "text/plain": [
              "   YearsExperience   Salary\n",
              "0              1.1  39343.0\n",
              "1              1.3  46205.0\n",
              "2              1.5  37731.0\n",
              "3              2.0  43525.0\n",
              "4              2.2  39891.0"
            ]
          },
          "metadata": {
            "tags": []
          },
          "execution_count": 6
        }
      ]
    },
    {
      "cell_type": "code",
      "metadata": {
        "colab": {
          "base_uri": "https://localhost:8080/"
        },
        "id": "r-7-GTcAwsFS",
        "outputId": "694a4c71-2fc8-4833-ed83-947af143df0f"
      },
      "source": [
        "# Checking for empty data fields\r\n",
        "flag=data.isnull().values.any()\r\n",
        "if(flag):\r\n",
        "  print(\"The data set contains empty field\")\r\n",
        "else:\r\n",
        "  print(\"The data set does'nt contain any empty field\")"
      ],
      "execution_count": 7,
      "outputs": [
        {
          "output_type": "stream",
          "text": [
            "The data set does'nt contain any empty field\n"
          ],
          "name": "stdout"
        }
      ]
    },
    {
      "cell_type": "code",
      "metadata": {
        "colab": {
          "base_uri": "https://localhost:8080/",
          "height": 279
        },
        "id": "XqqQfNq5wu0m",
        "outputId": "16b332c0-0927-4049-808b-5a1ba935ba5e"
      },
      "source": [
        "# Plotting the data\r\n",
        "plt.scatter(data['YearsExperience'],data['Salary'])\r\n",
        "plt.ylabel(\"Salary\")\r\n",
        "plt.xlabel(\"Years of Experience\")\r\n",
        "\r\n",
        "plt.show()"
      ],
      "execution_count": 8,
      "outputs": [
        {
          "output_type": "display_data",
          "data": {
            "image/png": "[encoded data removed]",
            "text/plain": [
              "<Figure size 432x288 with 1 Axes>"
            ]
          },
          "metadata": {
            "tags": [],
            "needs_background": "light"
          }
        }
      ]
    },
    {
      "cell_type": "code",
      "metadata": {
        "id": "IGq9nC85yHUi"
      },
      "source": [
        "#Converting the data frame into 2 numpy arrays\r\n",
        "experience=np.array(data['YearsExperience'])\r\n",
        "salary=np.array(data['Salary'])"
      ],
      "execution_count": 9,
      "outputs": []
    },
    {
      "cell_type": "code",
      "metadata": {
        "id": "p9WKD1T-00wn"
      },
      "source": [
        "# Linear Regression using method 1 (Ordinary Least Squares)\r\n",
        "# Given a data set to find a line equation of the form y=mx+b which fits the data as good as possible\r\n",
        "def ordinaryleastsquares(X,y):\r\n",
        "  Xmean=np.sum(X)/X.size\r\n",
        "  ymean=np.sum(y)/y.size\r\n",
        "  a=X-Xmean\r\n",
        "  b=y-ymean\r\n",
        "  numerator=np.dot(a,b)\r\n",
        "  denominator=np.dot(a,a)\r\n",
        "  m=numerator/denominator\r\n",
        "  b=ymean-m*Xmean\r\n",
        "  ypredictions=m*X+b\r\n",
        "  return ypredictions"
      ],
      "execution_count": 10,
      "outputs": []
    },
    {
      "cell_type": "code",
      "metadata": {
        "colab": {
          "base_uri": "https://localhost:8080/",
          "height": 329
        },
        "id": "OV3usSgF2e20",
        "outputId": "beae7be8-e245-4688-f96d-20b211c3ed39"
      },
      "source": [
        "# Predicting y values using method 1 and plotting the regresison line\r\n",
        "ypredictions=ordinaryleastsquares(experience,salary)\r\n",
        "plt.plot(experience,ypredictions,color=\"red\")\r\n",
        "plt.scatter(experience,salary)\r\n",
        "plt.ylabel(\"Salary\")\r\n",
        "plt.xlabel(\"Years of Experience\")\r\n",
        "plt.title(\"Linear Regression using Ordinary Least Squares\")\r\n",
        "plt.show()"
      ],
      "execution_count": 19,
      "outputs": [
        {
          "output_type": "stream",
          "text": [
            "25792.200198668696\n",
            "9449.962321455076\n"
          ],
          "name": "stdout"
        },
        {
          "output_type": "display_data",
          "data": {
            "image/png": "[encoded data removed]",
            "text/plain": [
              "<Figure size 432x288 with 1 Axes>"
            ]
          },
          "metadata": {
            "tags": [],
            "needs_background": "light"
          }
        }
      ]
    },
    {
      "cell_type": "code",
      "metadata": {
        "id": "amHCfi-n2iXK"
      },
      "source": [
        "# Defining the R-Squared Metric\r\n",
        "def RSquared(y,ypredictions):\r\n",
        "  RSS=y-ypredictions\r\n",
        "  RSS=np.dot(RSS,RSS)\r\n",
        "  ymean=np.sum(y)/y.size\r\n",
        "  TSS=y-ymean\r\n",
        "  TSS=np.dot(TSS,TSS)\r\n",
        "  Rsq=1-(RSS/TSS)\r\n",
        "  return Rsq"
      ],
      "execution_count": 12,
      "outputs": []
    },
    {
      "cell_type": "code",
      "metadata": {
        "colab": {
          "base_uri": "https://localhost:8080/"
        },
        "id": "Cm66Ng6X89Mg",
        "outputId": "3e1c2f4e-255e-4bbc-eb2c-fcce1da7b2e1"
      },
      "source": [
        "# Finding the Rsquared metric for our model \r\n",
        "print(\"The R-squared value is \",RSquared(salary,ypredictions))"
      ],
      "execution_count": 13,
      "outputs": [
        {
          "output_type": "stream",
          "text": [
            "The R-squared value is  0.9569566641435086\n"
          ],
          "name": "stdout"
        }
      ]
    },
    {
      "cell_type": "code",
      "metadata": {
        "id": "tUkgnasVCiNq"
      },
      "source": [
        "# Cost function\r\n",
        "def computecost(X,y,params):\r\n",
        "  H=np.matmul(X,params)\r\n",
        "  H=H-y\r\n",
        "  H=np.matmul(np.transpose(H),H)\r\n",
        "  J=H/X.shape[0]\r\n",
        "  return J"
      ],
      "execution_count": 14,
      "outputs": []
    },
    {
      "cell_type": "code",
      "metadata": {
        "id": "q_M4OwtX9S0r"
      },
      "source": [
        "# Linear Regression using Method 2 (Gradient Descent)\r\n",
        "def Gradientdescent(alpha,iteration,X,y):\r\n",
        "  # To return parameters m and b\r\n",
        "  prev_error=0\r\n",
        "  size=X.size\r\n",
        "  params=np.array([[0],[0]])\r\n",
        "  X=X.reshape(size,1)\r\n",
        "  y=y.reshape(size,1)\r\n",
        "  a=np.ones(size)\r\n",
        "  a=a.reshape(size,1)\r\n",
        "  X=np.concatenate((a,X),axis=1)\r\n",
        "  Jhist=computecost(X,y,params)\r\n",
        "  for i in range(0,iteration):\r\n",
        "    gama=np.matmul(X,params) \r\n",
        "    gama=gama-y  \r\n",
        "    gama=(2/size)*(np.matmul(np.transpose(gama),X))\r\n",
        "    params=params-alpha*np.transpose(gama)\r\n",
        "    Jnew=computecost(X,y,params)\r\n",
        "    if( Jnew[0][0]>Jhist[0][0]):\r\n",
        "      print(\"Overshooting ....... decrease alpha\")\r\n",
        "      return 0\r\n",
        "    Jhist=Jnew\r\n",
        "  return params\r\n",
        "\r\n",
        "\r\n",
        "\r\n",
        "\r\n"
      ],
      "execution_count": 15,
      "outputs": []
    },
    {
      "cell_type": "code",
      "metadata": {
        "id": "I2B5wN4E2I2I"
      },
      "source": [
        "params=Gradientdescent(0.001,10000,experience,salary)"
      ],
      "execution_count": 16,
      "outputs": []
    },
    {
      "cell_type": "code",
      "metadata": {
        "colab": {
          "base_uri": "https://localhost:8080/",
          "height": 295
        },
        "id": "rhGSSw0T2_Se",
        "outputId": "a8eb7e09-2411-471b-88a3-b69bd2056d0f"
      },
      "source": [
        "# Plotting the results\r\n",
        "b=params[0][0]\r\n",
        "m=params[1][0]\r\n",
        "ypredictions_graddesecnt=m*experience+b\r\n",
        "plt.scatter(experience,salary)\r\n",
        "plt.plot(experience,ypredictions_graddesecnt,color=\"green\")\r\n",
        "plt.ylabel(\"Salary\")\r\n",
        "plt.xlabel(\"Years of Experience\")\r\n",
        "plt.title(\"Linear Regression using Gradient Descent\")\r\n",
        "plt.show()"
      ],
      "execution_count": 17,
      "outputs": [
        {
          "output_type": "display_data",
          "data": {
            "image/png": "[encoded data removed]",
            "text/plain": [
              "<Figure size 432x288 with 1 Axes>"
            ]
          },
          "metadata": {
            "tags": [],
            "needs_background": "light"
          }
        }
      ]
    },
    {
      "cell_type": "code",
      "metadata": {
        "colab": {
          "base_uri": "https://localhost:8080/"
        },
        "id": "8KHXvkOHXLaZ",
        "outputId": "15aaef84-8fab-4397-f52d-3bc644c8e757"
      },
      "source": [
        "# Finding the Rsquared metric for our second model \r\n",
        "print(\"The R-squared value is \",RSquared(salary,ypredictions_graddesecnt))"
      ],
      "execution_count": 18,
      "outputs": [
        {
          "output_type": "stream",
          "text": [
            "The R-squared value is  0.9569208739474417\n"
          ],
          "name": "stdout"
        }
      ]
    },
    {
      "cell_type": "code",
      "metadata": {
        "id": "qbLhoHOtXdpY"
      },
      "source": [
        ""
      ],
      "execution_count": null,
      "outputs": []
    }
  ]
}